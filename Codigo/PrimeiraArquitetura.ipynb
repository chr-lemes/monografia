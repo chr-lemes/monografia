{
 "cells": [
  {
   "cell_type": "code",
   "execution_count": 2,
   "id": "b3bcff0c-b7c9-4749-bf39-3f474fa163ac",
   "metadata": {},
   "outputs": [],
   "source": [
    "import tensorflow as tf\n",
    "import numpy as np\n",
    "import matplotlib.pyplot as plt\n",
    "import warnings\n",
    "from tensorflow.keras import layers, models, optimizers, utils, regularizers\n",
    "from tensorflow.keras.applications import ResNet50V2\n",
    "from tensorflow.keras.preprocessing.image import ImageDataGenerator\n",
    "warnings.filterwarnings('ignore')\n",
    "tf.compat.v1.logging.set_verbosity(tf.compat.v1.logging.ERROR)"
   ]
  },
  {
   "cell_type": "code",
   "execution_count": 3,
   "id": "8840b20e-70f2-4f24-bfd3-d64c2df0e1c4",
   "metadata": {},
   "outputs": [
    {
     "name": "stderr",
     "output_type": "stream",
     "text": [
      "2022-04-14 15:00:55.692245: I tensorflow/core/platform/cpu_feature_guard.cc:151] This TensorFlow binary is optimized with oneAPI Deep Neural Network Library (oneDNN) to use the following CPU instructions in performance-critical operations:  AVX2 FMA\n",
      "To enable them in other operations, rebuild TensorFlow with the appropriate compiler flags.\n",
      "2022-04-14 15:00:55.816922: I tensorflow/stream_executor/cuda/cuda_gpu_executor.cc:936] successful NUMA node read from SysFS had negative value (-1), but there must be at least one NUMA node, so returning NUMA node zero\n",
      "2022-04-14 15:00:55.965124: I tensorflow/stream_executor/cuda/cuda_gpu_executor.cc:936] successful NUMA node read from SysFS had negative value (-1), but there must be at least one NUMA node, so returning NUMA node zero\n",
      "2022-04-14 15:00:55.965462: I tensorflow/stream_executor/cuda/cuda_gpu_executor.cc:936] successful NUMA node read from SysFS had negative value (-1), but there must be at least one NUMA node, so returning NUMA node zero\n",
      "2022-04-14 15:00:57.110206: I tensorflow/stream_executor/cuda/cuda_gpu_executor.cc:936] successful NUMA node read from SysFS had negative value (-1), but there must be at least one NUMA node, so returning NUMA node zero\n",
      "2022-04-14 15:00:57.110484: I tensorflow/stream_executor/cuda/cuda_gpu_executor.cc:936] successful NUMA node read from SysFS had negative value (-1), but there must be at least one NUMA node, so returning NUMA node zero\n",
      "2022-04-14 15:00:57.110715: I tensorflow/stream_executor/cuda/cuda_gpu_executor.cc:936] successful NUMA node read from SysFS had negative value (-1), but there must be at least one NUMA node, so returning NUMA node zero\n",
      "2022-04-14 15:00:57.111399: I tensorflow/core/common_runtime/gpu/gpu_device.cc:1525] Created device /device:GPU:0 with 5011 MB memory:  -> device: 0, name: NVIDIA GeForce GTX 1060 6GB, pci bus id: 0000:01:00.0, compute capability: 6.1\n"
     ]
    }
   ],
   "source": [
    "assert(tf.test.gpu_device_name())"
   ]
  },
  {
   "cell_type": "code",
   "execution_count": 4,
   "id": "d48d0214-63be-45af-bfe9-06205df29e5a",
   "metadata": {
    "tags": []
   },
   "outputs": [],
   "source": [
    "'''\n",
    "    Cria uma função (int_func) que transforma cada string num inteiro. numpy.vectorize aplica essa função elemento por elemento\n",
    "'''\n",
    "\n",
    "int_func=lambda x: int(x)\n",
    "vint_func=np.vectorize(int_func)"
   ]
  },
  {
   "cell_type": "code",
   "execution_count": 5,
   "id": "6c8642b6-ece2-4aaa-b3da-600e10326ee5",
   "metadata": {},
   "outputs": [],
   "source": [
    "'''\n",
    "    Cria uma função (ord_func) que transforma cada string num inteiro. numpy.vectorize aplica essa função elemento por elemento\n",
    "'''\n",
    "\n",
    "ord_func=lambda x: ord(x)-65 ## ATENÇÃO: veja abaixo o motivo de ter subtraído 65\n",
    "vord_func=np.vectorize(ord_func)"
   ]
  },
  {
   "cell_type": "markdown",
   "id": "8e390da4-9d8d-47f3-8d46-f4e7522b1b4f",
   "metadata": {
    "jupyter": {
     "source_hidden": true
    },
    "tags": []
   },
   "source": [
    "#### Um breve interregno"
   ]
  },
  {
   "cell_type": "markdown",
   "id": "69b49efc-ea5a-4fbe-905d-1a7af1547daf",
   "metadata": {
    "jupyter": {
     "source_hidden": true
    },
    "tags": []
   },
   "source": [
    "Aqui faz-se necessário explicar de forma mais detalhada o motivo de subtrair 65 na função acima. De acordo com a documentação, ord(c) recebe uma string representando um único caractere Unicode e retorna um inteiro representando o código Unicode daquele caractere. 'A' tem o código 65, 'B' é 66, ... e 'Z' é 90. Assim, caso fizesse ord_func sem subtrair 65, teríamos"
   ]
  },
  {
   "cell_type": "code",
   "execution_count": 5,
   "id": "f998baf1-a9c6-4086-bccb-f70af1502dc3",
   "metadata": {
    "jupyter": {
     "source_hidden": true
    },
    "tags": []
   },
   "outputs": [],
   "source": [
    "temp_func=lambda x: ord(x) \n",
    "vtemp_func=np.vectorize(temp_func)"
   ]
  },
  {
   "cell_type": "code",
   "execution_count": 6,
   "id": "bd77e767-8ded-4d0e-8afa-22fdc041556b",
   "metadata": {
    "collapsed": true,
    "jupyter": {
     "outputs_hidden": true,
     "source_hidden": true
    },
    "tags": []
   },
   "outputs": [
    {
     "data": {
      "text/plain": [
       "array(['A', 'B', 'C', 'D', 'E', 'F', 'G', 'H', 'I', 'J', 'K', 'L', 'M',\n",
       "       'N', 'O', 'P', 'Q', 'R', 'S', 'T', 'U', 'V', 'W', 'X', 'Y', 'Z'],\n",
       "      dtype='<U1')"
      ]
     },
     "execution_count": 6,
     "metadata": {},
     "output_type": "execute_result"
    }
   ],
   "source": [
    "temp=np.load('training_label_char.npy')\n",
    "np.unique(temp)"
   ]
  },
  {
   "cell_type": "markdown",
   "id": "3114f9d7-0062-4c2b-a2d1-eb25697ce261",
   "metadata": {
    "jupyter": {
     "source_hidden": true
    },
    "tags": []
   },
   "source": [
    "Dados os códigos Unicode para as letras, ao converter o array acima teríamos"
   ]
  },
  {
   "cell_type": "code",
   "execution_count": 7,
   "id": "eb7f5d21-9516-4395-9b60-e22419fd6bbd",
   "metadata": {
    "collapsed": true,
    "jupyter": {
     "outputs_hidden": true,
     "source_hidden": true
    },
    "tags": []
   },
   "outputs": [
    {
     "data": {
      "text/plain": [
       "array([65, 66, 67, 68, 69, 70, 71, 72, 73, 74, 75, 76, 77, 78, 79, 80, 81,\n",
       "       82, 83, 84, 85, 86, 87, 88, 89, 90])"
      ]
     },
     "execution_count": 7,
     "metadata": {},
     "output_type": "execute_result"
    }
   ],
   "source": [
    "ar=vtemp_func(temp)\n",
    "np.unique(ar)"
   ]
  },
  {
   "cell_type": "markdown",
   "id": "bc1bb43c-26bd-4770-8f0c-1615e4c9cb8f",
   "metadata": {
    "jupyter": {
     "source_hidden": true
    },
    "tags": []
   },
   "source": [
    "Ocorre que, ao passar esse array pela função keras.util.to_categorical, esta irá criar o one-hot com 91 posições. O shape será"
   ]
  },
  {
   "cell_type": "code",
   "execution_count": 8,
   "id": "9d890585-175b-4f5b-b97c-f04ffce0ca31",
   "metadata": {
    "collapsed": true,
    "jupyter": {
     "outputs_hidden": true,
     "source_hidden": true
    },
    "tags": []
   },
   "outputs": [
    {
     "data": {
      "text/plain": [
       "(5400, 91)"
      ]
     },
     "execution_count": 8,
     "metadata": {},
     "output_type": "execute_result"
    }
   ],
   "source": [
    "utils.to_categorical(ar).shape"
   ]
  },
  {
   "cell_type": "markdown",
   "id": "46bf4611-e206-487c-9cd2-4728234f08b9",
   "metadata": {
    "jupyter": {
     "source_hidden": true
    },
    "tags": []
   },
   "source": [
    "Dessa forma, subtraindo 65 da função ord(c), conseguimos ter um array com shape (5400,26)\n",
    "\n",
    "Fim do interregno"
   ]
  },
  {
   "cell_type": "code",
   "execution_count": 6,
   "id": "01d2f07e-a96b-4a01-b857-86ba772516b8",
   "metadata": {},
   "outputs": [],
   "source": [
    "def load_img_array(file):\n",
    "    '''\n",
    "    Lê os arquivos com os arrays das imagens. Divide por 255 para normalizar, pois as imagens eram grayscale. Expande o shape do array, \n",
    "    pois o keras precisa ler as entradas com 4 dimensões (batch_shape, rows, cols, channels). \n",
    "    '''\n",
    "    temp=np.load(file)\n",
    "    temp=temp.astype('float32')/255\n",
    "    temp=np.expand_dims(temp,axis=-1)\n",
    "    \n",
    "    return temp"
   ]
  },
  {
   "cell_type": "code",
   "execution_count": 7,
   "id": "1f595a23-4f93-4e1b-97a1-2a1ded315ac3",
   "metadata": {
    "tags": []
   },
   "outputs": [],
   "source": [
    "def plotar_acuracia_loss(modelo,nome):\n",
    "    \n",
    "    epochs=range(1,len(modelo.history['accuracy'])+1)\n",
    "\n",
    "    plt.rcParams[\"figure.figsize\"] = (13,6)\n",
    "\n",
    "    plt.subplot(1, 2, 1)\n",
    "\n",
    "    plt.plot(epochs,modelo.history['accuracy'], color='orange', label='Acurácia de treino')\n",
    "    plt.plot(epochs,modelo.history['val_accuracy'], 'b', label ='Acurácia de validação')\n",
    "    plt.title('Acurácia de treino e validação do '+nome)\n",
    "    plt.xlabel('Epochs')\n",
    "    plt.ylabel('Acurácia')\n",
    "    plt.legend()\n",
    "\n",
    "    plt.subplot(1, 2, 2)\n",
    "\n",
    "    plt.plot(epochs,modelo.history['loss'], color='orange', label='Perda de treino')\n",
    "    plt.plot(epochs,modelo.history['val_loss'], 'b', label ='Perda de validação')\n",
    "    plt.title('Perda de treino e validação do '+nome)\n",
    "    plt.xlabel('Epochs')\n",
    "    plt.ylabel('Perda')\n",
    "    plt.legend()\n",
    "\n",
    "    plt.show()\n",
    "    \n"
   ]
  },
  {
   "cell_type": "code",
   "execution_count": 8,
   "id": "66f7abbe-6162-4fd7-b186-906db72d4036",
   "metadata": {},
   "outputs": [],
   "source": [
    "training_img_char=load_img_array('training_img_char.npy')\n",
    "training_img_digit=load_img_array('training_img_digit.npy')\n",
    "testing_img_char=load_img_array('testing_img_char.npy')\n",
    "testing_img_digit=load_img_array('testing_img_digit.npy')\n",
    "validation_img_char=load_img_array('validation_img_char.npy')\n",
    "validation_img_digit=load_img_array('validation_img_digit.npy')"
   ]
  },
  {
   "cell_type": "code",
   "execution_count": 9,
   "id": "b7bfeb9b-350b-4069-844d-412e8978d002",
   "metadata": {},
   "outputs": [],
   "source": [
    "'''\n",
    "    Lê os arquivos com os arrays dos labels. Notar que tais arrays contêm strings. Será necessário convertê-los para int usando\n",
    "    a função ord(), quando o label for caractere, e int(), quando for inteiro. Cria o one-hot encode \n",
    "'''\n",
    "\n",
    "training_label_char=utils.to_categorical(vord_func(np.load('training_label_char.npy')))\n",
    "training_label_digit=utils.to_categorical(vint_func(np.load('training_label_digit.npy')))\n",
    "testing_label_char=utils.to_categorical(vord_func(np.load('testing_label_char.npy')))\n",
    "testing_label_digit=utils.to_categorical(vint_func(np.load('testing_label_digit.npy')))\n",
    "validation_label_char=utils.to_categorical(vord_func(np.load('validation_label_char.npy')))\n",
    "validation_label_digit=utils.to_categorical(vint_func(np.load('validation_label_digit.npy')))"
   ]
  },
  {
   "cell_type": "markdown",
   "id": "b8266a3e-115b-4027-97cd-283485baaa8a",
   "metadata": {
    "jupyter": {
     "source_hidden": true
    },
    "tags": []
   },
   "source": [
    "##### Primeiro modelo para os dígitos"
   ]
  },
  {
   "cell_type": "code",
   "execution_count": 7,
   "id": "aeb3573e-5ba0-4fdc-afca-2ed335fa89de",
   "metadata": {
    "collapsed": true,
    "jupyter": {
     "outputs_hidden": true,
     "source_hidden": true
    },
    "tags": []
   },
   "outputs": [
    {
     "name": "stderr",
     "output_type": "stream",
     "text": [
      "2022-04-01 14:24:30.647296: I tensorflow/stream_executor/cuda/cuda_gpu_executor.cc:936] successful NUMA node read from SysFS had negative value (-1), but there must be at least one NUMA node, so returning NUMA node zero\n",
      "2022-04-01 14:24:30.807356: I tensorflow/stream_executor/cuda/cuda_gpu_executor.cc:936] successful NUMA node read from SysFS had negative value (-1), but there must be at least one NUMA node, so returning NUMA node zero\n",
      "2022-04-01 14:24:30.808203: I tensorflow/stream_executor/cuda/cuda_gpu_executor.cc:936] successful NUMA node read from SysFS had negative value (-1), but there must be at least one NUMA node, so returning NUMA node zero\n",
      "2022-04-01 14:24:30.818328: I tensorflow/core/platform/cpu_feature_guard.cc:151] This TensorFlow binary is optimized with oneAPI Deep Neural Network Library (oneDNN) to use the following CPU instructions in performance-critical operations:  AVX2 FMA\n",
      "To enable them in other operations, rebuild TensorFlow with the appropriate compiler flags.\n",
      "2022-04-01 14:24:30.820025: I tensorflow/stream_executor/cuda/cuda_gpu_executor.cc:936] successful NUMA node read from SysFS had negative value (-1), but there must be at least one NUMA node, so returning NUMA node zero\n",
      "2022-04-01 14:24:30.821508: I tensorflow/stream_executor/cuda/cuda_gpu_executor.cc:936] successful NUMA node read from SysFS had negative value (-1), but there must be at least one NUMA node, so returning NUMA node zero\n",
      "2022-04-01 14:24:30.822126: I tensorflow/stream_executor/cuda/cuda_gpu_executor.cc:936] successful NUMA node read from SysFS had negative value (-1), but there must be at least one NUMA node, so returning NUMA node zero\n",
      "2022-04-01 14:24:32.201961: I tensorflow/stream_executor/cuda/cuda_gpu_executor.cc:936] successful NUMA node read from SysFS had negative value (-1), but there must be at least one NUMA node, so returning NUMA node zero\n",
      "2022-04-01 14:24:32.202318: I tensorflow/stream_executor/cuda/cuda_gpu_executor.cc:936] successful NUMA node read from SysFS had negative value (-1), but there must be at least one NUMA node, so returning NUMA node zero\n",
      "2022-04-01 14:24:32.202597: I tensorflow/stream_executor/cuda/cuda_gpu_executor.cc:936] successful NUMA node read from SysFS had negative value (-1), but there must be at least one NUMA node, so returning NUMA node zero\n",
      "2022-04-01 14:24:32.203307: I tensorflow/core/common_runtime/gpu/gpu_device.cc:1525] Created device /job:localhost/replica:0/task:0/device:GPU:0 with 4954 MB memory:  -> device: 0, name: NVIDIA GeForce GTX 1060 6GB, pci bus id: 0000:01:00.0, compute capability: 6.1\n"
     ]
    }
   ],
   "source": [
    "modelo1 = models.Sequential([\n",
    "    layers.Conv2D(64,\n",
    "                  (3,3),\n",
    "                  activation='relu',\n",
    "                  input_shape=(17,11,1),\n",
    "                  padding='same'),\n",
    "    layers.MaxPooling2D(pool_size=(2,2),\n",
    "                       strides=2),\n",
    "    layers.Conv2D(64,\n",
    "                 (3,3),\n",
    "                 activation='relu',\n",
    "                 padding='same'),\n",
    "    layers.MaxPooling2D(pool_size=(2,2),\n",
    "                       strides=2),\n",
    "    layers.Flatten(),\n",
    "    layers.Dense(100,\n",
    "                activation='relu'),\n",
    "    layers.Dense(100,\n",
    "                activation='relu'),\n",
    "    layers.Dense(100,\n",
    "                activation='relu'),\n",
    "    layers.Dense(10,\n",
    "                activation='softmax')\n",
    "])"
   ]
  },
  {
   "cell_type": "code",
   "execution_count": 8,
   "id": "c8594cc3-2d15-45f6-b082-ae82b3289e0f",
   "metadata": {
    "jupyter": {
     "source_hidden": true
    },
    "tags": []
   },
   "outputs": [],
   "source": [
    "modelo1.compile(optimizer = optimizers.Adam(learning_rate = 0.001),\n",
    "              loss='categorical_crossentropy',\n",
    "              metrics=['accuracy'])"
   ]
  },
  {
   "cell_type": "code",
   "execution_count": 9,
   "id": "6af0d111-99b9-4bcc-adab-5d6d25f49b6a",
   "metadata": {
    "collapsed": true,
    "jupyter": {
     "outputs_hidden": true,
     "source_hidden": true
    },
    "tags": []
   },
   "outputs": [
    {
     "name": "stdout",
     "output_type": "stream",
     "text": [
      "Epoch 1/40\n"
     ]
    },
    {
     "name": "stderr",
     "output_type": "stream",
     "text": [
      "2022-04-01 14:24:42.511579: I tensorflow/stream_executor/cuda/cuda_dnn.cc:368] Loaded cuDNN version 8303\n",
      "2022-04-01 14:24:43.765118: I tensorflow/core/platform/default/subprocess.cc:304] Start cannot spawn child process: No such file or directory\n"
     ]
    },
    {
     "name": "stdout",
     "output_type": "stream",
     "text": [
      "15/15 [==============================] - 4s 34ms/step - loss: 2.2499 - accuracy: 0.1419 - val_loss: 2.3310 - val_accuracy: 0.0731\n",
      "Epoch 2/40\n",
      "15/15 [==============================] - 0s 12ms/step - loss: 2.0287 - accuracy: 0.3032 - val_loss: 1.9736 - val_accuracy: 0.2981\n",
      "Epoch 3/40\n",
      "15/15 [==============================] - 0s 12ms/step - loss: 1.6213 - accuracy: 0.5253 - val_loss: 1.5561 - val_accuracy: 0.5108\n",
      "Epoch 4/40\n",
      "15/15 [==============================] - 0s 12ms/step - loss: 1.2851 - accuracy: 0.6275 - val_loss: 1.2506 - val_accuracy: 0.6125\n",
      "Epoch 5/40\n",
      "15/15 [==============================] - 0s 12ms/step - loss: 0.9723 - accuracy: 0.7446 - val_loss: 1.0519 - val_accuracy: 0.6697\n",
      "Epoch 6/40\n",
      "15/15 [==============================] - 0s 12ms/step - loss: 0.6919 - accuracy: 0.8163 - val_loss: 1.1237 - val_accuracy: 0.6494\n",
      "Epoch 7/40\n",
      "15/15 [==============================] - 0s 12ms/step - loss: 0.5461 - accuracy: 0.8590 - val_loss: 0.7632 - val_accuracy: 0.8031\n",
      "Epoch 8/40\n",
      "15/15 [==============================] - 0s 12ms/step - loss: 0.3658 - accuracy: 0.9153 - val_loss: 0.6353 - val_accuracy: 0.8458\n",
      "Epoch 9/40\n",
      "15/15 [==============================] - 0s 11ms/step - loss: 0.2797 - accuracy: 0.9304 - val_loss: 0.5838 - val_accuracy: 0.8578\n",
      "Epoch 10/40\n",
      "15/15 [==============================] - 0s 11ms/step - loss: 0.2327 - accuracy: 0.9424 - val_loss: 0.5841 - val_accuracy: 0.8642\n",
      "Epoch 11/40\n",
      "15/15 [==============================] - 0s 12ms/step - loss: 0.1869 - accuracy: 0.9569 - val_loss: 0.5085 - val_accuracy: 0.8911\n",
      "Epoch 12/40\n",
      "15/15 [==============================] - 0s 12ms/step - loss: 0.1344 - accuracy: 0.9708 - val_loss: 0.4971 - val_accuracy: 0.9017\n",
      "Epoch 13/40\n",
      "15/15 [==============================] - 0s 13ms/step - loss: 0.1092 - accuracy: 0.9790 - val_loss: 0.4628 - val_accuracy: 0.9081\n",
      "Epoch 14/40\n",
      "15/15 [==============================] - 0s 12ms/step - loss: 0.0861 - accuracy: 0.9864 - val_loss: 0.5001 - val_accuracy: 0.9278\n",
      "Epoch 15/40\n",
      "15/15 [==============================] - 0s 12ms/step - loss: 0.0813 - accuracy: 0.9857 - val_loss: 0.4707 - val_accuracy: 0.9069\n",
      "Epoch 16/40\n",
      "15/15 [==============================] - 0s 12ms/step - loss: 0.0630 - accuracy: 0.9889 - val_loss: 0.4546 - val_accuracy: 0.9397\n",
      "Epoch 17/40\n",
      "15/15 [==============================] - 0s 11ms/step - loss: 0.0509 - accuracy: 0.9936 - val_loss: 0.4758 - val_accuracy: 0.9336\n",
      "Epoch 18/40\n",
      "15/15 [==============================] - 0s 12ms/step - loss: 0.0572 - accuracy: 0.9869 - val_loss: 0.5004 - val_accuracy: 0.8908\n",
      "Epoch 19/40\n",
      "15/15 [==============================] - 0s 12ms/step - loss: 0.0586 - accuracy: 0.9882 - val_loss: 0.4788 - val_accuracy: 0.9283\n",
      "Epoch 20/40\n",
      "15/15 [==============================] - 0s 12ms/step - loss: 0.0415 - accuracy: 0.9935 - val_loss: 0.5750 - val_accuracy: 0.9028\n",
      "Epoch 21/40\n",
      "15/15 [==============================] - 0s 12ms/step - loss: 0.0690 - accuracy: 0.9815 - val_loss: 0.4541 - val_accuracy: 0.9300\n",
      "Epoch 22/40\n",
      "15/15 [==============================] - 0s 12ms/step - loss: 0.0491 - accuracy: 0.9882 - val_loss: 0.4346 - val_accuracy: 0.9464\n",
      "Epoch 23/40\n",
      "15/15 [==============================] - 0s 12ms/step - loss: 0.0309 - accuracy: 0.9957 - val_loss: 0.4403 - val_accuracy: 0.9397\n",
      "Epoch 24/40\n",
      "15/15 [==============================] - 0s 11ms/step - loss: 0.0247 - accuracy: 0.9962 - val_loss: 0.4053 - val_accuracy: 0.9489\n",
      "Epoch 25/40\n",
      "15/15 [==============================] - 0s 11ms/step - loss: 0.0238 - accuracy: 0.9957 - val_loss: 0.4883 - val_accuracy: 0.9381\n",
      "Epoch 26/40\n",
      "15/15 [==============================] - 0s 12ms/step - loss: 0.0272 - accuracy: 0.9944 - val_loss: 0.4176 - val_accuracy: 0.9517\n",
      "Epoch 27/40\n",
      "15/15 [==============================] - 0s 11ms/step - loss: 0.0178 - accuracy: 0.9975 - val_loss: 0.4467 - val_accuracy: 0.9544\n",
      "Epoch 28/40\n",
      "15/15 [==============================] - 0s 12ms/step - loss: 0.0177 - accuracy: 0.9964 - val_loss: 0.6262 - val_accuracy: 0.9017\n",
      "Epoch 29/40\n",
      "15/15 [==============================] - 0s 12ms/step - loss: 0.0544 - accuracy: 0.9835 - val_loss: 0.4593 - val_accuracy: 0.9333\n",
      "Epoch 30/40\n",
      "15/15 [==============================] - 0s 12ms/step - loss: 0.0235 - accuracy: 0.9954 - val_loss: 0.4730 - val_accuracy: 0.9431\n",
      "Epoch 31/40\n",
      "15/15 [==============================] - 0s 11ms/step - loss: 0.0191 - accuracy: 0.9962 - val_loss: 0.4045 - val_accuracy: 0.9589\n",
      "Epoch 32/40\n",
      "15/15 [==============================] - 0s 11ms/step - loss: 0.0164 - accuracy: 0.9975 - val_loss: 0.4376 - val_accuracy: 0.9550\n",
      "Epoch 33/40\n",
      "15/15 [==============================] - 0s 12ms/step - loss: 0.0118 - accuracy: 0.9981 - val_loss: 0.4471 - val_accuracy: 0.9586\n",
      "Epoch 34/40\n",
      "15/15 [==============================] - 0s 12ms/step - loss: 0.0151 - accuracy: 0.9967 - val_loss: 0.5563 - val_accuracy: 0.9308\n",
      "Epoch 35/40\n",
      "15/15 [==============================] - 0s 11ms/step - loss: 0.0112 - accuracy: 0.9979 - val_loss: 0.4501 - val_accuracy: 0.9561\n",
      "Epoch 36/40\n",
      "15/15 [==============================] - 0s 12ms/step - loss: 0.0085 - accuracy: 0.9990 - val_loss: 0.4502 - val_accuracy: 0.9594\n",
      "Epoch 37/40\n",
      "15/15 [==============================] - 0s 12ms/step - loss: 0.0067 - accuracy: 0.9996 - val_loss: 0.4754 - val_accuracy: 0.9553\n",
      "Epoch 38/40\n",
      "15/15 [==============================] - 0s 12ms/step - loss: 0.0075 - accuracy: 0.9990 - val_loss: 0.4690 - val_accuracy: 0.9572\n",
      "Epoch 39/40\n",
      "15/15 [==============================] - 0s 12ms/step - loss: 0.0067 - accuracy: 0.9989 - val_loss: 0.4400 - val_accuracy: 0.9636\n",
      "Epoch 40/40\n",
      "15/15 [==============================] - 0s 11ms/step - loss: 0.0062 - accuracy: 0.9996 - val_loss: 0.4633 - val_accuracy: 0.9564\n"
     ]
    }
   ],
   "source": [
    "hist_modelo1=modelo1.fit(training_img_digit, training_label_digit, \n",
    "                 epochs=40,\n",
    "                 batch_size=512,\n",
    "                 validation_data=(validation_img_digit, validation_label_digit))"
   ]
  },
  {
   "cell_type": "code",
   "execution_count": null,
   "id": "424a8570-e30d-4839-a114-065c22154ace",
   "metadata": {
    "jupyter": {
     "source_hidden": true
    },
    "tags": []
   },
   "outputs": [],
   "source": [
    "plotar_acuracia_loss(hist_modelo1,\"Modelo 1\")"
   ]
  },
  {
   "cell_type": "markdown",
   "id": "e09cebb5-92db-4d21-9276-93ac5a138f10",
   "metadata": {
    "jupyter": {
     "source_hidden": true
    },
    "tags": []
   },
   "source": [
    "##### Segundo modelo para as letras"
   ]
  },
  {
   "cell_type": "code",
   "execution_count": 24,
   "id": "58bc141f-3b65-427f-a44d-2e8622751bf2",
   "metadata": {
    "jupyter": {
     "source_hidden": true
    },
    "tags": []
   },
   "outputs": [],
   "source": [
    "modelo2 = models.Sequential([\n",
    "    layers.Conv2D(64,\n",
    "                  (3,3),\n",
    "                  activation='relu',\n",
    "                  input_shape=(17,11,1),\n",
    "                  padding='same'),\n",
    "    layers.MaxPooling2D(pool_size=(2,2),\n",
    "                       strides=2),\n",
    "    layers.Conv2D(64,\n",
    "                 (3,3),\n",
    "                 activation='relu',\n",
    "                 padding='same'),\n",
    "    layers.MaxPooling2D(pool_size=(2,2),\n",
    "                       strides=2),\n",
    "    layers.Flatten(),\n",
    "    \n",
    "    layers.Dense(100,\n",
    "                activation='relu'),\n",
    "    layers.Dense(100,\n",
    "                activation='relu'),\n",
    "    layers.Dense(100,\n",
    "                activation='relu'),\n",
    "    layers.Dense(26,\n",
    "                activation='softmax')\n",
    "])"
   ]
  },
  {
   "cell_type": "code",
   "execution_count": 25,
   "id": "d7931bdd-7bc8-460f-bdaa-8036df276a56",
   "metadata": {
    "jupyter": {
     "source_hidden": true
    },
    "tags": []
   },
   "outputs": [],
   "source": [
    "modelo2.compile(optimizer = optimizers.Adam(learning_rate = 0.001),\n",
    "              loss='categorical_crossentropy',\n",
    "              metrics=['accuracy'])"
   ]
  },
  {
   "cell_type": "code",
   "execution_count": 26,
   "id": "50023831-d019-455b-9a52-4312a5ae5aa2",
   "metadata": {
    "collapsed": true,
    "jupyter": {
     "outputs_hidden": true,
     "source_hidden": true
    },
    "tags": []
   },
   "outputs": [
    {
     "name": "stdout",
     "output_type": "stream",
     "text": [
      "Epoch 1/30\n",
      "11/11 [==============================] - 1s 25ms/step - loss: 3.1072 - accuracy: 0.2315 - val_loss: 3.0310 - val_accuracy: 0.2889\n",
      "Epoch 2/30\n",
      "11/11 [==============================] - 0s 12ms/step - loss: 2.8916 - accuracy: 0.2722 - val_loss: 2.8849 - val_accuracy: 0.2889\n",
      "Epoch 3/30\n",
      "11/11 [==============================] - 0s 12ms/step - loss: 2.8204 - accuracy: 0.2722 - val_loss: 2.8516 - val_accuracy: 0.2889\n",
      "Epoch 4/30\n",
      "11/11 [==============================] - 0s 12ms/step - loss: 2.7571 - accuracy: 0.2722 - val_loss: 2.7909 - val_accuracy: 0.2889\n",
      "Epoch 5/30\n",
      "11/11 [==============================] - 0s 12ms/step - loss: 2.6409 - accuracy: 0.3019 - val_loss: 2.6827 - val_accuracy: 0.3396\n",
      "Epoch 6/30\n",
      "11/11 [==============================] - 0s 11ms/step - loss: 2.4479 - accuracy: 0.3359 - val_loss: 2.5145 - val_accuracy: 0.3567\n",
      "Epoch 7/30\n",
      "11/11 [==============================] - 0s 11ms/step - loss: 2.1779 - accuracy: 0.3767 - val_loss: 2.3142 - val_accuracy: 0.3926\n",
      "Epoch 8/30\n",
      "11/11 [==============================] - 0s 11ms/step - loss: 1.8716 - accuracy: 0.4515 - val_loss: 2.1140 - val_accuracy: 0.4759\n",
      "Epoch 9/30\n",
      "11/11 [==============================] - 0s 11ms/step - loss: 1.6142 - accuracy: 0.5604 - val_loss: 2.0379 - val_accuracy: 0.5163\n",
      "Epoch 10/30\n",
      "11/11 [==============================] - 0s 11ms/step - loss: 1.3841 - accuracy: 0.6224 - val_loss: 1.9303 - val_accuracy: 0.5696\n",
      "Epoch 11/30\n",
      "11/11 [==============================] - 0s 11ms/step - loss: 1.1987 - accuracy: 0.6783 - val_loss: 1.8657 - val_accuracy: 0.5870\n",
      "Epoch 12/30\n",
      "11/11 [==============================] - 0s 11ms/step - loss: 1.0333 - accuracy: 0.7191 - val_loss: 1.8283 - val_accuracy: 0.6333\n",
      "Epoch 13/30\n",
      "11/11 [==============================] - 0s 11ms/step - loss: 0.9265 - accuracy: 0.7304 - val_loss: 1.7831 - val_accuracy: 0.6415\n",
      "Epoch 14/30\n",
      "11/11 [==============================] - 0s 16ms/step - loss: 0.8142 - accuracy: 0.7635 - val_loss: 1.7969 - val_accuracy: 0.6444\n",
      "Epoch 15/30\n",
      "11/11 [==============================] - 0s 13ms/step - loss: 0.6787 - accuracy: 0.8033 - val_loss: 1.7632 - val_accuracy: 0.6707\n",
      "Epoch 16/30\n",
      "11/11 [==============================] - 0s 11ms/step - loss: 0.5774 - accuracy: 0.8343 - val_loss: 1.7687 - val_accuracy: 0.6689\n",
      "Epoch 17/30\n",
      "11/11 [==============================] - 0s 11ms/step - loss: 0.5012 - accuracy: 0.8589 - val_loss: 1.8042 - val_accuracy: 0.7085\n",
      "Epoch 18/30\n",
      "11/11 [==============================] - 0s 11ms/step - loss: 0.4190 - accuracy: 0.8889 - val_loss: 1.9274 - val_accuracy: 0.6670\n",
      "Epoch 19/30\n",
      "11/11 [==============================] - 0s 11ms/step - loss: 0.3534 - accuracy: 0.9015 - val_loss: 1.9010 - val_accuracy: 0.7167\n",
      "Epoch 20/30\n",
      "11/11 [==============================] - 0s 11ms/step - loss: 0.2937 - accuracy: 0.9222 - val_loss: 1.8972 - val_accuracy: 0.7341\n",
      "Epoch 21/30\n",
      "11/11 [==============================] - 0s 11ms/step - loss: 0.2430 - accuracy: 0.9415 - val_loss: 2.0335 - val_accuracy: 0.7196\n",
      "Epoch 22/30\n",
      "11/11 [==============================] - 0s 11ms/step - loss: 0.2019 - accuracy: 0.9546 - val_loss: 2.0575 - val_accuracy: 0.7426\n",
      "Epoch 23/30\n",
      "11/11 [==============================] - 0s 11ms/step - loss: 0.1778 - accuracy: 0.9589 - val_loss: 2.1396 - val_accuracy: 0.7315\n",
      "Epoch 24/30\n",
      "11/11 [==============================] - 0s 11ms/step - loss: 0.1487 - accuracy: 0.9681 - val_loss: 2.2407 - val_accuracy: 0.7396\n",
      "Epoch 25/30\n",
      "11/11 [==============================] - 0s 11ms/step - loss: 0.1338 - accuracy: 0.9726 - val_loss: 2.2588 - val_accuracy: 0.7330\n",
      "Epoch 26/30\n",
      "11/11 [==============================] - 0s 12ms/step - loss: 0.1119 - accuracy: 0.9781 - val_loss: 2.3037 - val_accuracy: 0.7389\n",
      "Epoch 27/30\n",
      "11/11 [==============================] - 0s 11ms/step - loss: 0.0979 - accuracy: 0.9815 - val_loss: 2.3286 - val_accuracy: 0.7470\n",
      "Epoch 28/30\n",
      "11/11 [==============================] - 0s 11ms/step - loss: 0.0870 - accuracy: 0.9831 - val_loss: 2.4255 - val_accuracy: 0.7593\n",
      "Epoch 29/30\n",
      "11/11 [==============================] - 0s 11ms/step - loss: 0.0825 - accuracy: 0.9839 - val_loss: 2.4602 - val_accuracy: 0.7463\n",
      "Epoch 30/30\n",
      "11/11 [==============================] - 0s 12ms/step - loss: 0.0641 - accuracy: 0.9878 - val_loss: 2.4645 - val_accuracy: 0.7544\n"
     ]
    }
   ],
   "source": [
    "hist_modelo2=modelo2.fit(training_img_char, training_label_char, \n",
    "                 epochs=30,\n",
    "                 batch_size=512,\n",
    "                 validation_data=(validation_img_char, validation_label_char))"
   ]
  },
  {
   "cell_type": "code",
   "execution_count": 27,
   "id": "e6e6cd00-cc2a-469b-9151-ce9706a5c021",
   "metadata": {
    "collapsed": true,
    "jupyter": {
     "outputs_hidden": true,
     "source_hidden": true
    },
    "tags": []
   },
   "outputs": [
    {
     "data": {
      "image/png": "[encoded data removed]",
      "text/plain": [
       "<Figure size 936x432 with 2 Axes>"
      ]
     },
     "metadata": {
      "needs_background": "light"
     },
     "output_type": "display_data"
    }
   ],
   "source": [
    "plotar_acuracia_loss(hist_modelo2,\"Modelo 2\")"
   ]
  },
  {
   "cell_type": "markdown",
   "id": "82113cb5-2fc6-466f-941e-2971a09c3bca",
   "metadata": {},
   "source": [
    "Modelo para as letras usando Dropout e 3 camadas convolucionais e regularização L2"
   ]
  },
  {
   "cell_type": "code",
   "execution_count": 9,
   "id": "d854a92a-f624-46e8-9879-6b511939ad39",
   "metadata": {},
   "outputs": [
    {
     "name": "stderr",
     "output_type": "stream",
     "text": [
      "2022-04-13 17:28:39.017356: I tensorflow/stream_executor/cuda/cuda_gpu_executor.cc:936] successful NUMA node read from SysFS had negative value (-1), but there must be at least one NUMA node, so returning NUMA node zero\n",
      "2022-04-13 17:28:39.017619: I tensorflow/stream_executor/cuda/cuda_gpu_executor.cc:936] successful NUMA node read from SysFS had negative value (-1), but there must be at least one NUMA node, so returning NUMA node zero\n",
      "2022-04-13 17:28:39.017792: I tensorflow/stream_executor/cuda/cuda_gpu_executor.cc:936] successful NUMA node read from SysFS had negative value (-1), but there must be at least one NUMA node, so returning NUMA node zero\n",
      "2022-04-13 17:28:39.018157: I tensorflow/stream_executor/cuda/cuda_gpu_executor.cc:936] successful NUMA node read from SysFS had negative value (-1), but there must be at least one NUMA node, so returning NUMA node zero\n",
      "2022-04-13 17:28:39.018349: I tensorflow/stream_executor/cuda/cuda_gpu_executor.cc:936] successful NUMA node read from SysFS had negative value (-1), but there must be at least one NUMA node, so returning NUMA node zero\n",
      "2022-04-13 17:28:39.018511: I tensorflow/stream_executor/cuda/cuda_gpu_executor.cc:936] successful NUMA node read from SysFS had negative value (-1), but there must be at least one NUMA node, so returning NUMA node zero\n",
      "2022-04-13 17:28:39.018760: I tensorflow/stream_executor/cuda/cuda_gpu_executor.cc:936] successful NUMA node read from SysFS had negative value (-1), but there must be at least one NUMA node, so returning NUMA node zero\n",
      "2022-04-13 17:28:39.018929: I tensorflow/stream_executor/cuda/cuda_gpu_executor.cc:936] successful NUMA node read from SysFS had negative value (-1), but there must be at least one NUMA node, so returning NUMA node zero\n",
      "2022-04-13 17:28:39.019057: I tensorflow/core/common_runtime/gpu/gpu_device.cc:1525] Created device /job:localhost/replica:0/task:0/device:GPU:0 with 5014 MB memory:  -> device: 0, name: NVIDIA GeForce GTX 1060 6GB, pci bus id: 0000:01:00.0, compute capability: 6.1\n"
     ]
    }
   ],
   "source": [
    "modelo3 = models.Sequential([\n",
    "    layers.Conv2D(64,\n",
    "                  (3,3),\n",
    "                  activation='relu',\n",
    "                  input_shape=(17,11,1),\n",
    "                  padding='same'),\n",
    "    layers.MaxPooling2D(pool_size=(2,2),\n",
    "                       strides=2),\n",
    "    layers.Conv2D(64,\n",
    "                 (3,3),\n",
    "                 activation='relu',\n",
    "                 padding='same'),\n",
    "    layers.MaxPooling2D(pool_size=(2,2),\n",
    "                       strides=2),\n",
    "    layers.Conv2D(64,\n",
    "                 (3,3),\n",
    "                 activation='relu',\n",
    "                 padding='same'),\n",
    "    layers.MaxPooling2D(pool_size=(2,2),\n",
    "                       strides=2),\n",
    "    layers.Flatten(),\n",
    "    \n",
    "    layers.Dense(100,\n",
    "                activation='relu',kernel_regularizer=regularizers.l2(0.001)),\n",
    "    layers.Dropout(0.5),\n",
    "    layers.Dense(100,\n",
    "                activation='relu',kernel_regularizer=regularizers.l2(0.001)),\n",
    "    layers.Dropout(0.5),\n",
    "    layers.Dense(100,\n",
    "                activation='relu',kernel_regularizer=regularizers.l2(0.001)),\n",
    "    layers.Dropout(0.5),\n",
    "    layers.Dense(26,\n",
    "                activation='softmax')\n",
    "])"
   ]
  },
  {
   "cell_type": "code",
   "execution_count": 10,
   "id": "c42bebd5-b168-45c4-a290-eee681b974ea",
   "metadata": {},
   "outputs": [],
   "source": [
    "modelo3.compile(optimizer = optimizers.Adam(learning_rate = 0.001),\n",
    "              loss='categorical_crossentropy',\n",
    "              metrics=['accuracy'])"
   ]
  },
  {
   "cell_type": "code",
   "execution_count": 11,
   "id": "e73909fe-58a8-4dc8-b961-6cbfb7b881ea",
   "metadata": {},
   "outputs": [
    {
     "name": "stdout",
     "output_type": "stream",
     "text": [
      "Epoch 1/90\n"
     ]
    },
    {
     "name": "stderr",
     "output_type": "stream",
     "text": [
      "2022-04-13 17:28:41.772281: I tensorflow/stream_executor/cuda/cuda_dnn.cc:368] Loaded cuDNN version 8303\n",
      "2022-04-13 17:28:42.119478: I tensorflow/core/platform/default/subprocess.cc:304] Start cannot spawn child process: No such file or directory\n"
     ]
    },
    {
     "name": "stdout",
     "output_type": "stream",
     "text": [
      "22/22 [==============================] - 2s 21ms/step - loss: 3.4062 - accuracy: 0.1565 - val_loss: 3.2201 - val_accuracy: 0.2889\n",
      "Epoch 2/90\n",
      "22/22 [==============================] - 0s 8ms/step - loss: 3.1125 - accuracy: 0.2681 - val_loss: 2.9530 - val_accuracy: 0.2889\n",
      "Epoch 3/90\n",
      "22/22 [==============================] - 0s 8ms/step - loss: 2.8544 - accuracy: 0.2720 - val_loss: 2.7436 - val_accuracy: 0.2889\n",
      "Epoch 4/90\n",
      "22/22 [==============================] - 0s 8ms/step - loss: 2.6560 - accuracy: 0.2748 - val_loss: 2.5963 - val_accuracy: 0.2993\n",
      "Epoch 5/90\n",
      "22/22 [==============================] - 0s 8ms/step - loss: 2.4864 - accuracy: 0.3135 - val_loss: 2.5046 - val_accuracy: 0.3615\n",
      "Epoch 6/90\n",
      "22/22 [==============================] - 0s 8ms/step - loss: 2.3430 - accuracy: 0.3665 - val_loss: 2.3164 - val_accuracy: 0.3885\n",
      "Epoch 7/90\n",
      "22/22 [==============================] - 0s 8ms/step - loss: 2.1762 - accuracy: 0.4024 - val_loss: 2.1360 - val_accuracy: 0.4137\n",
      "Epoch 8/90\n",
      "22/22 [==============================] - 0s 8ms/step - loss: 2.0111 - accuracy: 0.4337 - val_loss: 2.0514 - val_accuracy: 0.4185\n",
      "Epoch 9/90\n",
      "22/22 [==============================] - 0s 8ms/step - loss: 1.9050 - accuracy: 0.4565 - val_loss: 2.0445 - val_accuracy: 0.4459\n",
      "Epoch 10/90\n",
      "22/22 [==============================] - 0s 8ms/step - loss: 1.7953 - accuracy: 0.4794 - val_loss: 1.9062 - val_accuracy: 0.4696\n",
      "Epoch 11/90\n",
      "22/22 [==============================] - 0s 8ms/step - loss: 1.7031 - accuracy: 0.4969 - val_loss: 1.8392 - val_accuracy: 0.4844\n",
      "Epoch 12/90\n",
      "22/22 [==============================] - 0s 8ms/step - loss: 1.5913 - accuracy: 0.5250 - val_loss: 1.7731 - val_accuracy: 0.5185\n",
      "Epoch 13/90\n",
      "22/22 [==============================] - 0s 8ms/step - loss: 1.4839 - accuracy: 0.5537 - val_loss: 1.6233 - val_accuracy: 0.5556\n",
      "Epoch 14/90\n",
      "22/22 [==============================] - 0s 8ms/step - loss: 1.3820 - accuracy: 0.5885 - val_loss: 1.5232 - val_accuracy: 0.5937\n",
      "Epoch 15/90\n",
      "22/22 [==============================] - 0s 8ms/step - loss: 1.2847 - accuracy: 0.6178 - val_loss: 1.4870 - val_accuracy: 0.6122\n",
      "Epoch 16/90\n",
      "22/22 [==============================] - 0s 8ms/step - loss: 1.1779 - accuracy: 0.6409 - val_loss: 1.4982 - val_accuracy: 0.6200\n",
      "Epoch 17/90\n",
      "22/22 [==============================] - 0s 8ms/step - loss: 1.0951 - accuracy: 0.6539 - val_loss: 1.5051 - val_accuracy: 0.6167\n",
      "Epoch 18/90\n",
      "22/22 [==============================] - 0s 8ms/step - loss: 1.0562 - accuracy: 0.6724 - val_loss: 1.4010 - val_accuracy: 0.6278\n",
      "Epoch 19/90\n",
      "22/22 [==============================] - 0s 8ms/step - loss: 0.9691 - accuracy: 0.6989 - val_loss: 1.4524 - val_accuracy: 0.6563\n",
      "Epoch 20/90\n",
      "22/22 [==============================] - 0s 8ms/step - loss: 0.9341 - accuracy: 0.7113 - val_loss: 1.5278 - val_accuracy: 0.6478\n",
      "Epoch 21/90\n",
      "22/22 [==============================] - 0s 8ms/step - loss: 0.8725 - accuracy: 0.7217 - val_loss: 1.3978 - val_accuracy: 0.6796\n",
      "Epoch 22/90\n",
      "22/22 [==============================] - 0s 8ms/step - loss: 0.8467 - accuracy: 0.7407 - val_loss: 1.4181 - val_accuracy: 0.6985\n",
      "Epoch 23/90\n",
      "22/22 [==============================] - 0s 9ms/step - loss: 0.8287 - accuracy: 0.7481 - val_loss: 1.3633 - val_accuracy: 0.7144\n",
      "Epoch 24/90\n",
      "22/22 [==============================] - 0s 8ms/step - loss: 0.7766 - accuracy: 0.7730 - val_loss: 1.3543 - val_accuracy: 0.7167\n",
      "Epoch 25/90\n",
      "22/22 [==============================] - 0s 8ms/step - loss: 0.7567 - accuracy: 0.7809 - val_loss: 1.2931 - val_accuracy: 0.7311\n",
      "Epoch 26/90\n",
      "22/22 [==============================] - 0s 8ms/step - loss: 0.7136 - accuracy: 0.7939 - val_loss: 1.4158 - val_accuracy: 0.7463\n",
      "Epoch 27/90\n",
      "22/22 [==============================] - 0s 8ms/step - loss: 0.6652 - accuracy: 0.8119 - val_loss: 1.3200 - val_accuracy: 0.7585\n",
      "Epoch 28/90\n",
      "22/22 [==============================] - 0s 8ms/step - loss: 0.6461 - accuracy: 0.8259 - val_loss: 1.4686 - val_accuracy: 0.7374\n",
      "Epoch 29/90\n",
      "22/22 [==============================] - 0s 8ms/step - loss: 0.6457 - accuracy: 0.8209 - val_loss: 1.2727 - val_accuracy: 0.7563\n",
      "Epoch 30/90\n",
      "22/22 [==============================] - 0s 9ms/step - loss: 0.6633 - accuracy: 0.8172 - val_loss: 1.1815 - val_accuracy: 0.7648\n",
      "Epoch 31/90\n",
      "22/22 [==============================] - 0s 8ms/step - loss: 0.6014 - accuracy: 0.8383 - val_loss: 1.3199 - val_accuracy: 0.7674\n",
      "Epoch 32/90\n",
      "22/22 [==============================] - 0s 8ms/step - loss: 0.5806 - accuracy: 0.8483 - val_loss: 1.3575 - val_accuracy: 0.7670\n",
      "Epoch 33/90\n",
      "22/22 [==============================] - 0s 8ms/step - loss: 0.5608 - accuracy: 0.8550 - val_loss: 1.2339 - val_accuracy: 0.7556\n",
      "Epoch 34/90\n",
      "22/22 [==============================] - 0s 8ms/step - loss: 0.5757 - accuracy: 0.8530 - val_loss: 1.1418 - val_accuracy: 0.7941\n",
      "Epoch 35/90\n",
      "22/22 [==============================] - 0s 8ms/step - loss: 0.5420 - accuracy: 0.8620 - val_loss: 1.2635 - val_accuracy: 0.7793\n",
      "Epoch 36/90\n",
      "22/22 [==============================] - 0s 8ms/step - loss: 0.5252 - accuracy: 0.8654 - val_loss: 1.3130 - val_accuracy: 0.7859\n",
      "Epoch 37/90\n",
      "22/22 [==============================] - 0s 8ms/step - loss: 0.5291 - accuracy: 0.8707 - val_loss: 1.2105 - val_accuracy: 0.8033\n",
      "Epoch 38/90\n",
      "22/22 [==============================] - 0s 8ms/step - loss: 0.4945 - accuracy: 0.8815 - val_loss: 1.3628 - val_accuracy: 0.7981\n",
      "Epoch 39/90\n",
      "22/22 [==============================] - 0s 8ms/step - loss: 0.4981 - accuracy: 0.8769 - val_loss: 1.6358 - val_accuracy: 0.7567\n",
      "Epoch 40/90\n",
      "22/22 [==============================] - 0s 8ms/step - loss: 0.5939 - accuracy: 0.8472 - val_loss: 1.3226 - val_accuracy: 0.7822\n",
      "Epoch 41/90\n",
      "22/22 [==============================] - 0s 8ms/step - loss: 0.4882 - accuracy: 0.8863 - val_loss: 1.3573 - val_accuracy: 0.7811\n",
      "Epoch 42/90\n",
      "22/22 [==============================] - 0s 8ms/step - loss: 0.4663 - accuracy: 0.8933 - val_loss: 1.5629 - val_accuracy: 0.7663\n",
      "Epoch 43/90\n",
      "22/22 [==============================] - 0s 8ms/step - loss: 0.4410 - accuracy: 0.9054 - val_loss: 1.2791 - val_accuracy: 0.7874\n",
      "Epoch 44/90\n",
      "22/22 [==============================] - 0s 8ms/step - loss: 0.4261 - accuracy: 0.9104 - val_loss: 1.3948 - val_accuracy: 0.7952\n",
      "Epoch 45/90\n",
      "22/22 [==============================] - 0s 8ms/step - loss: 0.4377 - accuracy: 0.9067 - val_loss: 1.2602 - val_accuracy: 0.8033\n",
      "Epoch 46/90\n",
      "22/22 [==============================] - 0s 8ms/step - loss: 0.4179 - accuracy: 0.9124 - val_loss: 1.3088 - val_accuracy: 0.8015\n",
      "Epoch 47/90\n",
      "22/22 [==============================] - 0s 8ms/step - loss: 0.4175 - accuracy: 0.9133 - val_loss: 1.1585 - val_accuracy: 0.8015\n",
      "Epoch 48/90\n",
      "22/22 [==============================] - 0s 8ms/step - loss: 0.4005 - accuracy: 0.9167 - val_loss: 1.3671 - val_accuracy: 0.7967\n",
      "Epoch 49/90\n",
      "22/22 [==============================] - 0s 9ms/step - loss: 0.3886 - accuracy: 0.9244 - val_loss: 1.3063 - val_accuracy: 0.7993\n",
      "Epoch 50/90\n",
      "22/22 [==============================] - 0s 8ms/step - loss: 0.4037 - accuracy: 0.9172 - val_loss: 1.3411 - val_accuracy: 0.8026\n",
      "Epoch 51/90\n",
      "22/22 [==============================] - 0s 8ms/step - loss: 0.3896 - accuracy: 0.9213 - val_loss: 1.3440 - val_accuracy: 0.8074\n",
      "Epoch 52/90\n",
      "22/22 [==============================] - 0s 8ms/step - loss: 0.3728 - accuracy: 0.9281 - val_loss: 1.3879 - val_accuracy: 0.8022\n",
      "Epoch 53/90\n",
      "22/22 [==============================] - 0s 9ms/step - loss: 0.3627 - accuracy: 0.9281 - val_loss: 1.5925 - val_accuracy: 0.7767\n",
      "Epoch 54/90\n",
      "22/22 [==============================] - 0s 8ms/step - loss: 0.3784 - accuracy: 0.9278 - val_loss: 1.4210 - val_accuracy: 0.7937\n",
      "Epoch 55/90\n",
      "22/22 [==============================] - 0s 8ms/step - loss: 0.3502 - accuracy: 0.9357 - val_loss: 1.5440 - val_accuracy: 0.7952\n",
      "Epoch 56/90\n",
      "22/22 [==============================] - 0s 8ms/step - loss: 0.3491 - accuracy: 0.9381 - val_loss: 1.2116 - val_accuracy: 0.8033\n",
      "Epoch 57/90\n",
      "22/22 [==============================] - 0s 8ms/step - loss: 0.3453 - accuracy: 0.9389 - val_loss: 1.3577 - val_accuracy: 0.8044\n",
      "Epoch 58/90\n",
      "22/22 [==============================] - 0s 8ms/step - loss: 0.3793 - accuracy: 0.9246 - val_loss: 1.3404 - val_accuracy: 0.8052\n",
      "Epoch 59/90\n",
      "22/22 [==============================] - 0s 8ms/step - loss: 0.3515 - accuracy: 0.9346 - val_loss: 1.3803 - val_accuracy: 0.8048\n",
      "Epoch 60/90\n",
      "22/22 [==============================] - 0s 8ms/step - loss: 0.3277 - accuracy: 0.9424 - val_loss: 1.2531 - val_accuracy: 0.8085\n",
      "Epoch 61/90\n",
      "22/22 [==============================] - 0s 8ms/step - loss: 0.3588 - accuracy: 0.9304 - val_loss: 1.2430 - val_accuracy: 0.8063\n",
      "Epoch 62/90\n",
      "22/22 [==============================] - 0s 8ms/step - loss: 0.3339 - accuracy: 0.9396 - val_loss: 1.3674 - val_accuracy: 0.8085\n",
      "Epoch 63/90\n",
      "22/22 [==============================] - 0s 8ms/step - loss: 0.3339 - accuracy: 0.9398 - val_loss: 1.4174 - val_accuracy: 0.7993\n",
      "Epoch 64/90\n",
      "22/22 [==============================] - 0s 8ms/step - loss: 0.3084 - accuracy: 0.9476 - val_loss: 1.3862 - val_accuracy: 0.8119\n",
      "Epoch 65/90\n",
      "22/22 [==============================] - 0s 8ms/step - loss: 0.3061 - accuracy: 0.9483 - val_loss: 1.3021 - val_accuracy: 0.8156\n",
      "Epoch 66/90\n",
      "22/22 [==============================] - 0s 8ms/step - loss: 0.3172 - accuracy: 0.9437 - val_loss: 1.4198 - val_accuracy: 0.8081\n",
      "Epoch 67/90\n",
      "22/22 [==============================] - 0s 8ms/step - loss: 0.3065 - accuracy: 0.9454 - val_loss: 1.5164 - val_accuracy: 0.8015\n",
      "Epoch 68/90\n",
      "22/22 [==============================] - 0s 8ms/step - loss: 0.2824 - accuracy: 0.9576 - val_loss: 1.4162 - val_accuracy: 0.8107\n",
      "Epoch 69/90\n",
      "22/22 [==============================] - 0s 8ms/step - loss: 0.2980 - accuracy: 0.9498 - val_loss: 1.3629 - val_accuracy: 0.8067\n",
      "Epoch 70/90\n",
      "22/22 [==============================] - 0s 8ms/step - loss: 0.2939 - accuracy: 0.9498 - val_loss: 1.4252 - val_accuracy: 0.8059\n",
      "Epoch 71/90\n",
      "22/22 [==============================] - 0s 8ms/step - loss: 0.2927 - accuracy: 0.9502 - val_loss: 1.4241 - val_accuracy: 0.8096\n",
      "Epoch 72/90\n",
      "22/22 [==============================] - 0s 8ms/step - loss: 0.2757 - accuracy: 0.9567 - val_loss: 1.4711 - val_accuracy: 0.8093\n",
      "Epoch 73/90\n",
      "22/22 [==============================] - 0s 8ms/step - loss: 0.2750 - accuracy: 0.9565 - val_loss: 1.4239 - val_accuracy: 0.8081\n",
      "Epoch 74/90\n",
      "22/22 [==============================] - 0s 8ms/step - loss: 0.2763 - accuracy: 0.9559 - val_loss: 1.5008 - val_accuracy: 0.8126\n",
      "Epoch 75/90\n",
      "22/22 [==============================] - 0s 8ms/step - loss: 0.2678 - accuracy: 0.9593 - val_loss: 1.5670 - val_accuracy: 0.8052\n",
      "Epoch 76/90\n",
      "22/22 [==============================] - 0s 8ms/step - loss: 0.2926 - accuracy: 0.9496 - val_loss: 1.3337 - val_accuracy: 0.8119\n",
      "Epoch 77/90\n",
      "22/22 [==============================] - 0s 8ms/step - loss: 0.2734 - accuracy: 0.9554 - val_loss: 1.5247 - val_accuracy: 0.8111\n",
      "Epoch 78/90\n",
      "22/22 [==============================] - 0s 8ms/step - loss: 0.2811 - accuracy: 0.9524 - val_loss: 1.3315 - val_accuracy: 0.8063\n",
      "Epoch 79/90\n",
      "22/22 [==============================] - 0s 8ms/step - loss: 0.2705 - accuracy: 0.9557 - val_loss: 1.3893 - val_accuracy: 0.8063\n",
      "Epoch 80/90\n",
      "22/22 [==============================] - 0s 9ms/step - loss: 0.2619 - accuracy: 0.9593 - val_loss: 1.5709 - val_accuracy: 0.8044\n",
      "Epoch 81/90\n",
      "22/22 [==============================] - 0s 8ms/step - loss: 0.2665 - accuracy: 0.9591 - val_loss: 1.3691 - val_accuracy: 0.8178\n",
      "Epoch 82/90\n",
      "22/22 [==============================] - 0s 9ms/step - loss: 0.2543 - accuracy: 0.9613 - val_loss: 1.3978 - val_accuracy: 0.8170\n",
      "Epoch 83/90\n",
      "22/22 [==============================] - 0s 8ms/step - loss: 0.2509 - accuracy: 0.9602 - val_loss: 1.5307 - val_accuracy: 0.8104\n",
      "Epoch 84/90\n",
      "22/22 [==============================] - 0s 8ms/step - loss: 0.2521 - accuracy: 0.9611 - val_loss: 1.5715 - val_accuracy: 0.8007\n",
      "Epoch 85/90\n",
      "22/22 [==============================] - 0s 8ms/step - loss: 0.2451 - accuracy: 0.9617 - val_loss: 1.5415 - val_accuracy: 0.8115\n",
      "Epoch 86/90\n",
      "22/22 [==============================] - 0s 8ms/step - loss: 0.2435 - accuracy: 0.9648 - val_loss: 1.4372 - val_accuracy: 0.8067\n",
      "Epoch 87/90\n",
      "22/22 [==============================] - 0s 8ms/step - loss: 0.2536 - accuracy: 0.9628 - val_loss: 1.6687 - val_accuracy: 0.8059\n",
      "Epoch 88/90\n",
      "22/22 [==============================] - 0s 8ms/step - loss: 0.2407 - accuracy: 0.9646 - val_loss: 1.5410 - val_accuracy: 0.8111\n",
      "Epoch 89/90\n",
      "22/22 [==============================] - 0s 8ms/step - loss: 0.2381 - accuracy: 0.9644 - val_loss: 1.6377 - val_accuracy: 0.8063\n",
      "Epoch 90/90\n",
      "22/22 [==============================] - 0s 8ms/step - loss: 0.2325 - accuracy: 0.9674 - val_loss: 1.5431 - val_accuracy: 0.8096\n"
     ]
    }
   ],
   "source": [
    "hist_modelo3=modelo3.fit(training_img_char, training_label_char, \n",
    "                 epochs=90,\n",
    "                 batch_size=256,\n",
    "                 validation_data=(validation_img_char, validation_label_char))"
   ]
  },
  {
   "cell_type": "code",
   "execution_count": 12,
   "id": "b18e6728-9eda-4d21-9626-d95c53c1dee2",
   "metadata": {},
   "outputs": [
    {
     "data": {
      "image/png": "[encoded data removed]",
      "text/plain": [
       "<Figure size 936x432 with 2 Axes>"
      ]
     },
     "metadata": {
      "needs_background": "light"
     },
     "output_type": "display_data"
    }
   ],
   "source": [
    "plotar_acuracia_loss(hist_modelo3,\"Modelo 3\")"
   ]
  },
  {
   "cell_type": "markdown",
   "id": "302de103-5828-408d-814a-33782158f26c",
   "metadata": {},
   "source": [
    "Modelo com 3 camadas convolucionais, Dropout (sem regularização L2)"
   ]
  },
  {
   "cell_type": "code",
   "execution_count": 13,
   "id": "7622b01b-7ae1-46ec-9285-04d5e7785976",
   "metadata": {},
   "outputs": [],
   "source": [
    "modelo4 = models.Sequential([\n",
    "    layers.Conv2D(64,\n",
    "                  (3,3),\n",
    "                  activation='relu',\n",
    "                  input_shape=(17,11,1),\n",
    "                  padding='same'),\n",
    "    layers.MaxPooling2D(pool_size=(2,2),\n",
    "                       strides=2),\n",
    "    layers.Conv2D(64,\n",
    "                 (3,3),\n",
    "                 activation='relu',\n",
    "                 padding='same'),\n",
    "    layers.MaxPooling2D(pool_size=(2,2),\n",
    "                       strides=2),\n",
    "    layers.Conv2D(64,\n",
    "                 (3,3),\n",
    "                 activation='relu',\n",
    "                 padding='same'),\n",
    "    layers.MaxPooling2D(pool_size=(2,2),\n",
    "                       strides=2),\n",
    "    layers.Flatten(),\n",
    "    \n",
    "    layers.Dense(100,\n",
    "                activation='relu'),\n",
    "    layers.Dropout(0.5),\n",
    "    layers.Dense(100,\n",
    "                activation='relu'),\n",
    "    layers.Dropout(0.5),\n",
    "    layers.Dense(100,\n",
    "                activation='relu'),\n",
    "    layers.Dropout(0.5),\n",
    "    layers.Dense(26,\n",
    "                activation='softmax')\n",
    "])"
   ]
  },
  {
   "cell_type": "code",
   "execution_count": 14,
   "id": "8f303496-eaf9-437a-9744-3602328a1a8d",
   "metadata": {},
   "outputs": [],
   "source": [
    "modelo4.compile(optimizer = optimizers.Adam(learning_rate = 0.001),\n",
    "              loss='categorical_crossentropy',\n",
    "              metrics=['accuracy'])"
   ]
  },
  {
   "cell_type": "code",
   "execution_count": 15,
   "id": "c561f5f9-9428-447e-9a7b-d08f7da6231c",
   "metadata": {},
   "outputs": [
    {
     "name": "stdout",
     "output_type": "stream",
     "text": [
      "Epoch 1/90\n",
      "22/22 [==============================] - 1s 15ms/step - loss: 3.1403 - accuracy: 0.1478 - val_loss: 2.9717 - val_accuracy: 0.2889\n",
      "Epoch 2/90\n",
      "22/22 [==============================] - 0s 8ms/step - loss: 2.9226 - accuracy: 0.2676 - val_loss: 2.8477 - val_accuracy: 0.2889\n",
      "Epoch 3/90\n",
      "22/22 [==============================] - 0s 8ms/step - loss: 2.7919 - accuracy: 0.2694 - val_loss: 2.7216 - val_accuracy: 0.2889\n",
      "Epoch 4/90\n",
      "22/22 [==============================] - 0s 8ms/step - loss: 2.6269 - accuracy: 0.2735 - val_loss: 2.5395 - val_accuracy: 0.2889\n",
      "Epoch 5/90\n",
      "22/22 [==============================] - 0s 8ms/step - loss: 2.4536 - accuracy: 0.2974 - val_loss: 2.4454 - val_accuracy: 0.3585\n",
      "Epoch 6/90\n",
      "22/22 [==============================] - 0s 8ms/step - loss: 2.3258 - accuracy: 0.3474 - val_loss: 2.3712 - val_accuracy: 0.3674\n",
      "Epoch 7/90\n",
      "22/22 [==============================] - 0s 8ms/step - loss: 2.2160 - accuracy: 0.3693 - val_loss: 2.2214 - val_accuracy: 0.3941\n",
      "Epoch 8/90\n",
      "22/22 [==============================] - 0s 8ms/step - loss: 2.0869 - accuracy: 0.3928 - val_loss: 2.1169 - val_accuracy: 0.4148\n",
      "Epoch 9/90\n",
      "22/22 [==============================] - 0s 8ms/step - loss: 1.9599 - accuracy: 0.4272 - val_loss: 2.0790 - val_accuracy: 0.4296\n",
      "Epoch 10/90\n",
      "22/22 [==============================] - 0s 8ms/step - loss: 1.8138 - accuracy: 0.4500 - val_loss: 1.8605 - val_accuracy: 0.4770\n",
      "Epoch 11/90\n",
      "22/22 [==============================] - 0s 8ms/step - loss: 1.6765 - accuracy: 0.4930 - val_loss: 1.8700 - val_accuracy: 0.5204\n",
      "Epoch 12/90\n",
      "22/22 [==============================] - 0s 8ms/step - loss: 1.5502 - accuracy: 0.5252 - val_loss: 1.5670 - val_accuracy: 0.5374\n",
      "Epoch 13/90\n",
      "22/22 [==============================] - 0s 8ms/step - loss: 1.4178 - accuracy: 0.5531 - val_loss: 1.4937 - val_accuracy: 0.5411\n",
      "Epoch 14/90\n",
      "22/22 [==============================] - 0s 8ms/step - loss: 1.2971 - accuracy: 0.5794 - val_loss: 1.4411 - val_accuracy: 0.5681\n",
      "Epoch 15/90\n",
      "22/22 [==============================] - 0s 8ms/step - loss: 1.1743 - accuracy: 0.6107 - val_loss: 1.3768 - val_accuracy: 0.6100\n",
      "Epoch 16/90\n",
      "22/22 [==============================] - 0s 8ms/step - loss: 1.1104 - accuracy: 0.6219 - val_loss: 1.2861 - val_accuracy: 0.6433\n",
      "Epoch 17/90\n",
      "22/22 [==============================] - 0s 8ms/step - loss: 0.9988 - accuracy: 0.6498 - val_loss: 1.2475 - val_accuracy: 0.6481\n",
      "Epoch 18/90\n",
      "22/22 [==============================] - 0s 8ms/step - loss: 0.9431 - accuracy: 0.6694 - val_loss: 1.3228 - val_accuracy: 0.6804\n",
      "Epoch 19/90\n",
      "22/22 [==============================] - 0s 8ms/step - loss: 0.8868 - accuracy: 0.6824 - val_loss: 1.3500 - val_accuracy: 0.7011\n",
      "Epoch 20/90\n",
      "22/22 [==============================] - 0s 8ms/step - loss: 0.8633 - accuracy: 0.6987 - val_loss: 1.4010 - val_accuracy: 0.7022\n",
      "Epoch 21/90\n",
      "22/22 [==============================] - 0s 8ms/step - loss: 0.7948 - accuracy: 0.7091 - val_loss: 1.1074 - val_accuracy: 0.7404\n",
      "Epoch 22/90\n",
      "22/22 [==============================] - 0s 8ms/step - loss: 0.7233 - accuracy: 0.7381 - val_loss: 1.1497 - val_accuracy: 0.7363\n",
      "Epoch 23/90\n",
      "22/22 [==============================] - 0s 8ms/step - loss: 0.6901 - accuracy: 0.7467 - val_loss: 1.2719 - val_accuracy: 0.7400\n",
      "Epoch 24/90\n",
      "22/22 [==============================] - 0s 8ms/step - loss: 0.6704 - accuracy: 0.7561 - val_loss: 0.9821 - val_accuracy: 0.7470\n",
      "Epoch 25/90\n",
      "22/22 [==============================] - 0s 8ms/step - loss: 0.6436 - accuracy: 0.7643 - val_loss: 0.9888 - val_accuracy: 0.7615\n",
      "Epoch 26/90\n",
      "22/22 [==============================] - 0s 8ms/step - loss: 0.5960 - accuracy: 0.7813 - val_loss: 1.0180 - val_accuracy: 0.7619\n",
      "Epoch 27/90\n",
      "22/22 [==============================] - 0s 8ms/step - loss: 0.5708 - accuracy: 0.7911 - val_loss: 1.2025 - val_accuracy: 0.7659\n",
      "Epoch 28/90\n",
      "22/22 [==============================] - 0s 8ms/step - loss: 0.5523 - accuracy: 0.7967 - val_loss: 0.9901 - val_accuracy: 0.7737\n",
      "Epoch 29/90\n",
      "22/22 [==============================] - 0s 8ms/step - loss: 0.5324 - accuracy: 0.8052 - val_loss: 1.1418 - val_accuracy: 0.7611\n",
      "Epoch 30/90\n",
      "22/22 [==============================] - 0s 8ms/step - loss: 0.4960 - accuracy: 0.8243 - val_loss: 1.0572 - val_accuracy: 0.7678\n",
      "Epoch 31/90\n",
      "22/22 [==============================] - 0s 8ms/step - loss: 0.5051 - accuracy: 0.8124 - val_loss: 1.1574 - val_accuracy: 0.7696\n",
      "Epoch 32/90\n",
      "22/22 [==============================] - 0s 8ms/step - loss: 0.4641 - accuracy: 0.8300 - val_loss: 1.1464 - val_accuracy: 0.7737\n",
      "Epoch 33/90\n",
      "22/22 [==============================] - 0s 8ms/step - loss: 0.4664 - accuracy: 0.8346 - val_loss: 1.1318 - val_accuracy: 0.7730\n",
      "Epoch 34/90\n",
      "22/22 [==============================] - 0s 8ms/step - loss: 0.4382 - accuracy: 0.8457 - val_loss: 1.0694 - val_accuracy: 0.7841\n",
      "Epoch 35/90\n",
      "22/22 [==============================] - 0s 8ms/step - loss: 0.4215 - accuracy: 0.8446 - val_loss: 0.9939 - val_accuracy: 0.7922\n",
      "Epoch 36/90\n",
      "22/22 [==============================] - 0s 8ms/step - loss: 0.3965 - accuracy: 0.8550 - val_loss: 1.1942 - val_accuracy: 0.7800\n",
      "Epoch 37/90\n",
      "22/22 [==============================] - 0s 8ms/step - loss: 0.3975 - accuracy: 0.8589 - val_loss: 1.0440 - val_accuracy: 0.7967\n",
      "Epoch 38/90\n",
      "22/22 [==============================] - 0s 8ms/step - loss: 0.4038 - accuracy: 0.8593 - val_loss: 0.9777 - val_accuracy: 0.7959\n",
      "Epoch 39/90\n",
      "22/22 [==============================] - 0s 8ms/step - loss: 0.3765 - accuracy: 0.8643 - val_loss: 1.1307 - val_accuracy: 0.7989\n",
      "Epoch 40/90\n",
      "22/22 [==============================] - 0s 8ms/step - loss: 0.3661 - accuracy: 0.8733 - val_loss: 1.1279 - val_accuracy: 0.7844\n",
      "Epoch 41/90\n",
      "22/22 [==============================] - 0s 8ms/step - loss: 0.3724 - accuracy: 0.8748 - val_loss: 1.0134 - val_accuracy: 0.7930\n",
      "Epoch 42/90\n",
      "22/22 [==============================] - 0s 8ms/step - loss: 0.3574 - accuracy: 0.8776 - val_loss: 1.1590 - val_accuracy: 0.8004\n",
      "Epoch 43/90\n",
      "22/22 [==============================] - 0s 8ms/step - loss: 0.3409 - accuracy: 0.8807 - val_loss: 1.0491 - val_accuracy: 0.7970\n",
      "Epoch 44/90\n",
      "22/22 [==============================] - 0s 8ms/step - loss: 0.3163 - accuracy: 0.8919 - val_loss: 1.1086 - val_accuracy: 0.7993\n",
      "Epoch 45/90\n",
      "22/22 [==============================] - 0s 8ms/step - loss: 0.2979 - accuracy: 0.8978 - val_loss: 1.1489 - val_accuracy: 0.8000\n",
      "Epoch 46/90\n",
      "22/22 [==============================] - 0s 8ms/step - loss: 0.2967 - accuracy: 0.9006 - val_loss: 1.3176 - val_accuracy: 0.7944\n",
      "Epoch 47/90\n",
      "22/22 [==============================] - 0s 9ms/step - loss: 0.2762 - accuracy: 0.9076 - val_loss: 1.0430 - val_accuracy: 0.8133\n",
      "Epoch 48/90\n",
      "22/22 [==============================] - 0s 8ms/step - loss: 0.2644 - accuracy: 0.9113 - val_loss: 1.1599 - val_accuracy: 0.8078\n",
      "Epoch 49/90\n",
      "22/22 [==============================] - 0s 8ms/step - loss: 0.2659 - accuracy: 0.9120 - val_loss: 1.1046 - val_accuracy: 0.8041\n",
      "Epoch 50/90\n",
      "22/22 [==============================] - 0s 8ms/step - loss: 0.2560 - accuracy: 0.9126 - val_loss: 1.0518 - val_accuracy: 0.8189\n",
      "Epoch 51/90\n",
      "22/22 [==============================] - 0s 8ms/step - loss: 0.2623 - accuracy: 0.9135 - val_loss: 1.1580 - val_accuracy: 0.8126\n",
      "Epoch 52/90\n",
      "22/22 [==============================] - 0s 8ms/step - loss: 0.2800 - accuracy: 0.9061 - val_loss: 1.0997 - val_accuracy: 0.8011\n",
      "Epoch 53/90\n",
      "22/22 [==============================] - 0s 8ms/step - loss: 0.2738 - accuracy: 0.9091 - val_loss: 1.2255 - val_accuracy: 0.8004\n",
      "Epoch 54/90\n",
      "22/22 [==============================] - 0s 8ms/step - loss: 0.2470 - accuracy: 0.9200 - val_loss: 1.0646 - val_accuracy: 0.8289\n",
      "Epoch 55/90\n",
      "22/22 [==============================] - 0s 8ms/step - loss: 0.2379 - accuracy: 0.9213 - val_loss: 1.2081 - val_accuracy: 0.8141\n",
      "Epoch 56/90\n",
      "22/22 [==============================] - 0s 9ms/step - loss: 0.2108 - accuracy: 0.9287 - val_loss: 1.1618 - val_accuracy: 0.8219\n",
      "Epoch 57/90\n",
      "22/22 [==============================] - 0s 8ms/step - loss: 0.2199 - accuracy: 0.9270 - val_loss: 1.2165 - val_accuracy: 0.8059\n",
      "Epoch 58/90\n",
      "22/22 [==============================] - 0s 8ms/step - loss: 0.2274 - accuracy: 0.9259 - val_loss: 1.1733 - val_accuracy: 0.8130\n",
      "Epoch 59/90\n",
      "22/22 [==============================] - 0s 8ms/step - loss: 0.2284 - accuracy: 0.9246 - val_loss: 1.4104 - val_accuracy: 0.8037\n",
      "Epoch 60/90\n",
      "22/22 [==============================] - 0s 8ms/step - loss: 0.2188 - accuracy: 0.9291 - val_loss: 1.1243 - val_accuracy: 0.8237\n",
      "Epoch 61/90\n",
      "22/22 [==============================] - 0s 8ms/step - loss: 0.2293 - accuracy: 0.9248 - val_loss: 1.2165 - val_accuracy: 0.8096\n",
      "Epoch 62/90\n",
      "22/22 [==============================] - 0s 8ms/step - loss: 0.2066 - accuracy: 0.9361 - val_loss: 1.2710 - val_accuracy: 0.8100\n",
      "Epoch 63/90\n",
      "22/22 [==============================] - 0s 8ms/step - loss: 0.1963 - accuracy: 0.9393 - val_loss: 1.2428 - val_accuracy: 0.8211\n",
      "Epoch 64/90\n",
      "22/22 [==============================] - 0s 8ms/step - loss: 0.1949 - accuracy: 0.9402 - val_loss: 1.3927 - val_accuracy: 0.8130\n",
      "Epoch 65/90\n",
      "22/22 [==============================] - 0s 8ms/step - loss: 0.1878 - accuracy: 0.9404 - val_loss: 1.2459 - val_accuracy: 0.8181\n",
      "Epoch 66/90\n",
      "22/22 [==============================] - 0s 8ms/step - loss: 0.1794 - accuracy: 0.9426 - val_loss: 1.1994 - val_accuracy: 0.8270\n",
      "Epoch 67/90\n",
      "22/22 [==============================] - 0s 8ms/step - loss: 0.1783 - accuracy: 0.9420 - val_loss: 1.2351 - val_accuracy: 0.8341\n",
      "Epoch 68/90\n",
      "22/22 [==============================] - 0s 8ms/step - loss: 0.2078 - accuracy: 0.9324 - val_loss: 1.1191 - val_accuracy: 0.8319\n",
      "Epoch 69/90\n",
      "22/22 [==============================] - 0s 8ms/step - loss: 0.1864 - accuracy: 0.9426 - val_loss: 1.3758 - val_accuracy: 0.8163\n",
      "Epoch 70/90\n",
      "22/22 [==============================] - 0s 8ms/step - loss: 0.1810 - accuracy: 0.9435 - val_loss: 1.3073 - val_accuracy: 0.8170\n",
      "Epoch 71/90\n",
      "22/22 [==============================] - 0s 8ms/step - loss: 0.1679 - accuracy: 0.9463 - val_loss: 1.1801 - val_accuracy: 0.8248\n",
      "Epoch 72/90\n",
      "22/22 [==============================] - 0s 8ms/step - loss: 0.1667 - accuracy: 0.9470 - val_loss: 1.2154 - val_accuracy: 0.8304\n",
      "Epoch 73/90\n",
      "22/22 [==============================] - 0s 8ms/step - loss: 0.1620 - accuracy: 0.9467 - val_loss: 1.2115 - val_accuracy: 0.8230\n",
      "Epoch 74/90\n",
      "22/22 [==============================] - 0s 8ms/step - loss: 0.1503 - accuracy: 0.9511 - val_loss: 1.2940 - val_accuracy: 0.8181\n",
      "Epoch 75/90\n",
      "22/22 [==============================] - 0s 8ms/step - loss: 0.1694 - accuracy: 0.9483 - val_loss: 1.4052 - val_accuracy: 0.8207\n",
      "Epoch 76/90\n",
      "22/22 [==============================] - 0s 8ms/step - loss: 0.1737 - accuracy: 0.9465 - val_loss: 1.3109 - val_accuracy: 0.8207\n",
      "Epoch 77/90\n",
      "22/22 [==============================] - 0s 8ms/step - loss: 0.1561 - accuracy: 0.9481 - val_loss: 1.3930 - val_accuracy: 0.8152\n",
      "Epoch 78/90\n",
      "22/22 [==============================] - 0s 8ms/step - loss: 0.1539 - accuracy: 0.9554 - val_loss: 1.3399 - val_accuracy: 0.8159\n",
      "Epoch 79/90\n",
      "22/22 [==============================] - 0s 8ms/step - loss: 0.1501 - accuracy: 0.9515 - val_loss: 1.4089 - val_accuracy: 0.8111\n",
      "Epoch 80/90\n",
      "22/22 [==============================] - 0s 8ms/step - loss: 0.1634 - accuracy: 0.9509 - val_loss: 1.4180 - val_accuracy: 0.8226\n",
      "Epoch 81/90\n",
      "22/22 [==============================] - 0s 8ms/step - loss: 0.1445 - accuracy: 0.9563 - val_loss: 1.4382 - val_accuracy: 0.8185\n",
      "Epoch 82/90\n",
      "22/22 [==============================] - 0s 8ms/step - loss: 0.1454 - accuracy: 0.9548 - val_loss: 1.3602 - val_accuracy: 0.8222\n",
      "Epoch 83/90\n",
      "22/22 [==============================] - 0s 8ms/step - loss: 0.1373 - accuracy: 0.9581 - val_loss: 1.4169 - val_accuracy: 0.8148\n",
      "Epoch 84/90\n",
      "22/22 [==============================] - 0s 8ms/step - loss: 0.1450 - accuracy: 0.9513 - val_loss: 1.4849 - val_accuracy: 0.8193\n",
      "Epoch 85/90\n",
      "22/22 [==============================] - 0s 8ms/step - loss: 0.1357 - accuracy: 0.9585 - val_loss: 1.6680 - val_accuracy: 0.8007\n",
      "Epoch 86/90\n",
      "22/22 [==============================] - 0s 8ms/step - loss: 0.1806 - accuracy: 0.9467 - val_loss: 1.2253 - val_accuracy: 0.8193\n",
      "Epoch 87/90\n",
      "22/22 [==============================] - 0s 8ms/step - loss: 0.1382 - accuracy: 0.9552 - val_loss: 1.3208 - val_accuracy: 0.8278\n",
      "Epoch 88/90\n",
      "22/22 [==============================] - 0s 8ms/step - loss: 0.1389 - accuracy: 0.9580 - val_loss: 1.2314 - val_accuracy: 0.8341\n",
      "Epoch 89/90\n",
      "22/22 [==============================] - 0s 8ms/step - loss: 0.1300 - accuracy: 0.9606 - val_loss: 1.2677 - val_accuracy: 0.8211\n",
      "Epoch 90/90\n",
      "22/22 [==============================] - 0s 8ms/step - loss: 0.1294 - accuracy: 0.9606 - val_loss: 1.4444 - val_accuracy: 0.8167\n"
     ]
    }
   ],
   "source": [
    "hist_modelo4=modelo4.fit(training_img_char, training_label_char, \n",
    "                 epochs=90,\n",
    "                 batch_size=256,\n",
    "                 validation_data=(validation_img_char, validation_label_char))"
   ]
  },
  {
   "cell_type": "code",
   "execution_count": 16,
   "id": "ec2cb74b-8d10-4e54-97ea-fbded8ea2f87",
   "metadata": {},
   "outputs": [
    {
     "data": {
      "image/png": "[encoded data removed]",
      "text/plain": [
       "<Figure size 936x432 with 2 Axes>"
      ]
     },
     "metadata": {
      "needs_background": "light"
     },
     "output_type": "display_data"
    }
   ],
   "source": [
    "plotar_acuracia_loss(hist_modelo4,\"Modelo 4\")"
   ]
  },
  {
   "cell_type": "markdown",
   "id": "033432a6-5807-46b5-9201-1684cd35db63",
   "metadata": {},
   "source": [
    "Modelo 5 com 3 camadas convolucionais, Dropout e Data Augmentation"
   ]
  },
  {
   "cell_type": "code",
   "execution_count": 19,
   "id": "c9387561-0db9-4e47-985b-5b058045fdb3",
   "metadata": {},
   "outputs": [],
   "source": [
    "modelo5 = models.Sequential([\n",
    "    layers.Conv2D(64,\n",
    "                  (3,3),\n",
    "                  activation='relu',\n",
    "                  input_shape=(17,11,1),\n",
    "                  padding='same'),\n",
    "    layers.MaxPooling2D(pool_size=(2,2),\n",
    "                       strides=2),\n",
    "    layers.Conv2D(64,\n",
    "                 (3,3),\n",
    "                 activation='relu',\n",
    "                 padding='same'),\n",
    "    layers.MaxPooling2D(pool_size=(2,2),\n",
    "                       strides=2),\n",
    "    layers.Conv2D(64,\n",
    "                 (3,3),\n",
    "                 activation='relu',\n",
    "                 padding='same'),\n",
    "    layers.MaxPooling2D(pool_size=(2,2),\n",
    "                       strides=2),\n",
    "    layers.Flatten(),\n",
    "    \n",
    "    layers.Dense(100,\n",
    "                activation='relu'),\n",
    "    layers.Dropout(0.5),\n",
    "    layers.Dense(100,\n",
    "                activation='relu'),\n",
    "    layers.Dropout(0.5),\n",
    "    layers.Dense(100,\n",
    "                activation='relu'),\n",
    "    layers.Dropout(0.5),\n",
    "    layers.Dense(26,\n",
    "                activation='softmax')\n",
    "])"
   ]
  },
  {
   "cell_type": "code",
   "execution_count": 20,
   "id": "229ed8c7-44da-4344-a30d-076677dbfbcd",
   "metadata": {},
   "outputs": [],
   "source": [
    "modelo5.compile(optimizer = optimizers.Adam(learning_rate = 0.001),\n",
    "              loss='categorical_crossentropy',\n",
    "              metrics=['accuracy'])"
   ]
  },
  {
   "cell_type": "code",
   "execution_count": 21,
   "id": "779d5392-c9ab-430c-9edc-b38a8838f05c",
   "metadata": {},
   "outputs": [],
   "source": [
    "datagen = ImageDataGenerator(\n",
    "            zca_epsilon=1e-06,\n",
    "            rotation_range=40,\n",
    "            width_shift_range=0.2,\n",
    "            height_shift_range=0.2,\n",
    "            zoom_range=0.2,\n",
    "            shear_range=0.2,\n",
    "            horizontal_flip=True\n",
    "            )"
   ]
  },
  {
   "cell_type": "code",
   "execution_count": 22,
   "id": "a32bd602-7753-4fc8-841a-bad79acbad69",
   "metadata": {},
   "outputs": [],
   "source": [
    "datagen.fit(training_img_char)"
   ]
  },
  {
   "cell_type": "code",
   "execution_count": 23,
   "id": "1f01815d-3e39-4090-95ae-bfa862b49d25",
   "metadata": {},
   "outputs": [
    {
     "name": "stdout",
     "output_type": "stream",
     "text": [
      "Epoch 1/70\n",
      "169/169 [==============================] - 2s 8ms/step - loss: 2.9462 - accuracy: 0.2509 - val_loss: 2.8134 - val_accuracy: 0.2889\n",
      "Epoch 2/70\n",
      "169/169 [==============================] - 1s 7ms/step - loss: 2.7903 - accuracy: 0.2722 - val_loss: 2.6593 - val_accuracy: 0.2889\n",
      "Epoch 3/70\n",
      "169/169 [==============================] - 1s 7ms/step - loss: 2.6755 - accuracy: 0.2735 - val_loss: 2.5625 - val_accuracy: 0.3241\n",
      "Epoch 4/70\n",
      "169/169 [==============================] - 1s 7ms/step - loss: 2.5689 - accuracy: 0.3063 - val_loss: 2.4595 - val_accuracy: 0.3537\n",
      "Epoch 5/70\n",
      "169/169 [==============================] - 1s 7ms/step - loss: 2.4342 - accuracy: 0.3389 - val_loss: 2.3276 - val_accuracy: 0.3663\n",
      "Epoch 6/70\n",
      "169/169 [==============================] - 1s 7ms/step - loss: 2.3447 - accuracy: 0.3504 - val_loss: 2.2371 - val_accuracy: 0.3711\n",
      "Epoch 7/70\n",
      "169/169 [==============================] - 1s 7ms/step - loss: 2.2663 - accuracy: 0.3615 - val_loss: 2.2505 - val_accuracy: 0.3841\n",
      "Epoch 8/70\n",
      "169/169 [==============================] - 1s 8ms/step - loss: 2.1770 - accuracy: 0.3722 - val_loss: 2.1536 - val_accuracy: 0.4315\n",
      "Epoch 9/70\n",
      "169/169 [==============================] - 1s 7ms/step - loss: 2.0913 - accuracy: 0.3896 - val_loss: 1.9175 - val_accuracy: 0.4559\n",
      "Epoch 10/70\n",
      "169/169 [==============================] - 1s 7ms/step - loss: 2.0209 - accuracy: 0.4102 - val_loss: 1.8989 - val_accuracy: 0.4519\n",
      "Epoch 11/70\n",
      "169/169 [==============================] - 1s 9ms/step - loss: 1.9155 - accuracy: 0.4274 - val_loss: 1.7266 - val_accuracy: 0.5030\n",
      "Epoch 12/70\n",
      "169/169 [==============================] - 2s 9ms/step - loss: 1.8822 - accuracy: 0.4326 - val_loss: 1.7375 - val_accuracy: 0.4863\n",
      "Epoch 13/70\n",
      "169/169 [==============================] - 1s 8ms/step - loss: 1.7666 - accuracy: 0.4535 - val_loss: 1.5955 - val_accuracy: 0.5293\n",
      "Epoch 14/70\n",
      "169/169 [==============================] - 1s 8ms/step - loss: 1.6928 - accuracy: 0.4715 - val_loss: 1.5976 - val_accuracy: 0.5167\n",
      "Epoch 15/70\n",
      "169/169 [==============================] - 1s 8ms/step - loss: 1.6260 - accuracy: 0.4876 - val_loss: 1.6292 - val_accuracy: 0.5230\n",
      "Epoch 16/70\n",
      "169/169 [==============================] - 1s 8ms/step - loss: 1.6192 - accuracy: 0.4843 - val_loss: 1.5702 - val_accuracy: 0.5281\n",
      "Epoch 17/70\n",
      "169/169 [==============================] - 1s 8ms/step - loss: 1.5464 - accuracy: 0.5031 - val_loss: 1.5476 - val_accuracy: 0.5252\n",
      "Epoch 18/70\n",
      "169/169 [==============================] - 1s 7ms/step - loss: 1.5297 - accuracy: 0.5154 - val_loss: 1.4868 - val_accuracy: 0.5533\n",
      "Epoch 19/70\n",
      "169/169 [==============================] - 1s 7ms/step - loss: 1.4861 - accuracy: 0.5261 - val_loss: 1.6171 - val_accuracy: 0.5604\n",
      "Epoch 20/70\n",
      "169/169 [==============================] - 1s 7ms/step - loss: 1.4525 - accuracy: 0.5393 - val_loss: 1.3237 - val_accuracy: 0.5974\n",
      "Epoch 21/70\n",
      "169/169 [==============================] - 1s 7ms/step - loss: 1.4296 - accuracy: 0.5444 - val_loss: 1.3787 - val_accuracy: 0.5907\n",
      "Epoch 22/70\n",
      "169/169 [==============================] - 1s 7ms/step - loss: 1.3958 - accuracy: 0.5470 - val_loss: 1.2514 - val_accuracy: 0.6078\n",
      "Epoch 23/70\n",
      "169/169 [==============================] - 1s 8ms/step - loss: 1.3596 - accuracy: 0.5643 - val_loss: 1.3811 - val_accuracy: 0.5941\n",
      "Epoch 24/70\n",
      "169/169 [==============================] - 1s 7ms/step - loss: 1.3331 - accuracy: 0.5683 - val_loss: 1.3664 - val_accuracy: 0.6015\n",
      "Epoch 25/70\n",
      "169/169 [==============================] - 1s 8ms/step - loss: 1.3019 - accuracy: 0.5861 - val_loss: 1.4599 - val_accuracy: 0.5722\n",
      "Epoch 26/70\n",
      "169/169 [==============================] - 1s 7ms/step - loss: 1.2650 - accuracy: 0.5809 - val_loss: 1.2753 - val_accuracy: 0.6293\n",
      "Epoch 27/70\n",
      "169/169 [==============================] - 1s 7ms/step - loss: 1.2833 - accuracy: 0.5850 - val_loss: 1.2646 - val_accuracy: 0.6441\n",
      "Epoch 28/70\n",
      "169/169 [==============================] - 1s 7ms/step - loss: 1.2242 - accuracy: 0.6024 - val_loss: 1.2256 - val_accuracy: 0.6481\n",
      "Epoch 29/70\n",
      "169/169 [==============================] - 1s 7ms/step - loss: 1.2163 - accuracy: 0.5989 - val_loss: 1.3886 - val_accuracy: 0.6130\n",
      "Epoch 30/70\n",
      "169/169 [==============================] - 1s 7ms/step - loss: 1.1966 - accuracy: 0.6057 - val_loss: 1.4731 - val_accuracy: 0.5944\n",
      "Epoch 31/70\n",
      "169/169 [==============================] - 1s 7ms/step - loss: 1.2156 - accuracy: 0.6017 - val_loss: 1.2871 - val_accuracy: 0.6359\n",
      "Epoch 32/70\n",
      "169/169 [==============================] - 1s 7ms/step - loss: 1.1766 - accuracy: 0.6189 - val_loss: 1.2956 - val_accuracy: 0.6293\n",
      "Epoch 33/70\n",
      "169/169 [==============================] - 1s 7ms/step - loss: 1.1425 - accuracy: 0.6148 - val_loss: 1.2000 - val_accuracy: 0.6400\n",
      "Epoch 34/70\n",
      "169/169 [==============================] - 1s 7ms/step - loss: 1.1401 - accuracy: 0.6248 - val_loss: 1.2117 - val_accuracy: 0.6378\n",
      "Epoch 35/70\n",
      "169/169 [==============================] - 1s 7ms/step - loss: 1.1279 - accuracy: 0.6235 - val_loss: 1.1601 - val_accuracy: 0.6541\n",
      "Epoch 36/70\n",
      "169/169 [==============================] - 1s 7ms/step - loss: 1.0826 - accuracy: 0.6359 - val_loss: 1.1961 - val_accuracy: 0.6300\n",
      "Epoch 37/70\n",
      "169/169 [==============================] - 1s 7ms/step - loss: 1.0799 - accuracy: 0.6348 - val_loss: 1.3548 - val_accuracy: 0.6593\n",
      "Epoch 38/70\n",
      "169/169 [==============================] - 1s 7ms/step - loss: 1.0589 - accuracy: 0.6419 - val_loss: 1.2321 - val_accuracy: 0.6389\n",
      "Epoch 39/70\n",
      "169/169 [==============================] - 1s 7ms/step - loss: 1.0858 - accuracy: 0.6443 - val_loss: 1.2485 - val_accuracy: 0.6589\n",
      "Epoch 40/70\n",
      "169/169 [==============================] - 1s 7ms/step - loss: 1.0482 - accuracy: 0.6504 - val_loss: 1.2418 - val_accuracy: 0.6674\n",
      "Epoch 41/70\n",
      "169/169 [==============================] - 1s 7ms/step - loss: 1.0067 - accuracy: 0.6661 - val_loss: 1.2767 - val_accuracy: 0.6370\n",
      "Epoch 42/70\n",
      "169/169 [==============================] - 1s 7ms/step - loss: 1.0504 - accuracy: 0.6509 - val_loss: 1.1183 - val_accuracy: 0.6656\n",
      "Epoch 43/70\n",
      "169/169 [==============================] - 1s 7ms/step - loss: 1.0337 - accuracy: 0.6602 - val_loss: 1.3526 - val_accuracy: 0.6356\n",
      "Epoch 44/70\n",
      "169/169 [==============================] - 1s 7ms/step - loss: 0.9896 - accuracy: 0.6659 - val_loss: 1.2849 - val_accuracy: 0.6722\n",
      "Epoch 45/70\n",
      "169/169 [==============================] - 1s 7ms/step - loss: 0.9970 - accuracy: 0.6657 - val_loss: 1.0635 - val_accuracy: 0.6967\n",
      "Epoch 46/70\n",
      "169/169 [==============================] - 1s 7ms/step - loss: 1.0012 - accuracy: 0.6776 - val_loss: 1.2199 - val_accuracy: 0.6681\n",
      "Epoch 47/70\n",
      "169/169 [==============================] - 1s 7ms/step - loss: 0.9845 - accuracy: 0.6756 - val_loss: 1.1864 - val_accuracy: 0.6874\n",
      "Epoch 48/70\n",
      "169/169 [==============================] - 1s 7ms/step - loss: 0.9778 - accuracy: 0.6698 - val_loss: 1.1454 - val_accuracy: 0.6826\n",
      "Epoch 49/70\n",
      "169/169 [==============================] - 1s 7ms/step - loss: 0.9537 - accuracy: 0.6809 - val_loss: 1.2914 - val_accuracy: 0.6952\n",
      "Epoch 50/70\n",
      "169/169 [==============================] - 1s 7ms/step - loss: 0.9538 - accuracy: 0.6867 - val_loss: 1.5645 - val_accuracy: 0.6519\n",
      "Epoch 51/70\n",
      "169/169 [==============================] - 1s 7ms/step - loss: 0.9333 - accuracy: 0.6922 - val_loss: 1.3885 - val_accuracy: 0.6870\n",
      "Epoch 52/70\n",
      "169/169 [==============================] - 1s 7ms/step - loss: 0.9170 - accuracy: 0.6920 - val_loss: 1.3444 - val_accuracy: 0.6978\n",
      "Epoch 53/70\n",
      "169/169 [==============================] - 1s 7ms/step - loss: 0.9415 - accuracy: 0.6893 - val_loss: 1.1373 - val_accuracy: 0.7181\n",
      "Epoch 54/70\n",
      "169/169 [==============================] - 1s 7ms/step - loss: 0.9179 - accuracy: 0.6969 - val_loss: 1.6284 - val_accuracy: 0.6848\n",
      "Epoch 55/70\n",
      "169/169 [==============================] - 1s 7ms/step - loss: 0.8969 - accuracy: 0.7019 - val_loss: 1.2711 - val_accuracy: 0.7026\n",
      "Epoch 56/70\n",
      "169/169 [==============================] - 1s 7ms/step - loss: 0.9173 - accuracy: 0.7024 - val_loss: 1.5615 - val_accuracy: 0.6830\n",
      "Epoch 57/70\n",
      "169/169 [==============================] - 1s 7ms/step - loss: 0.8589 - accuracy: 0.7063 - val_loss: 1.3581 - val_accuracy: 0.7004\n",
      "Epoch 58/70\n",
      "169/169 [==============================] - 1s 7ms/step - loss: 0.8733 - accuracy: 0.7072 - val_loss: 1.5492 - val_accuracy: 0.7019\n",
      "Epoch 59/70\n",
      "169/169 [==============================] - 1s 7ms/step - loss: 0.9014 - accuracy: 0.7076 - val_loss: 1.3041 - val_accuracy: 0.7067\n",
      "Epoch 60/70\n",
      "169/169 [==============================] - 1s 7ms/step - loss: 0.8577 - accuracy: 0.7159 - val_loss: 1.5216 - val_accuracy: 0.6830\n",
      "Epoch 61/70\n",
      "169/169 [==============================] - 1s 7ms/step - loss: 0.8465 - accuracy: 0.7196 - val_loss: 1.3355 - val_accuracy: 0.7011\n",
      "Epoch 62/70\n",
      "169/169 [==============================] - 1s 7ms/step - loss: 0.8761 - accuracy: 0.7146 - val_loss: 1.2179 - val_accuracy: 0.7033\n",
      "Epoch 63/70\n",
      "169/169 [==============================] - 1s 7ms/step - loss: 0.8519 - accuracy: 0.7167 - val_loss: 1.4055 - val_accuracy: 0.6793\n",
      "Epoch 64/70\n",
      "169/169 [==============================] - 1s 7ms/step - loss: 0.8674 - accuracy: 0.7117 - val_loss: 1.2568 - val_accuracy: 0.6970\n",
      "Epoch 65/70\n",
      "169/169 [==============================] - 1s 7ms/step - loss: 0.8163 - accuracy: 0.7304 - val_loss: 1.4869 - val_accuracy: 0.6763\n",
      "Epoch 66/70\n",
      "169/169 [==============================] - 1s 7ms/step - loss: 0.8147 - accuracy: 0.7263 - val_loss: 1.2942 - val_accuracy: 0.7063\n",
      "Epoch 67/70\n",
      "169/169 [==============================] - 1s 7ms/step - loss: 0.8033 - accuracy: 0.7335 - val_loss: 1.3439 - val_accuracy: 0.7441\n",
      "Epoch 68/70\n",
      "169/169 [==============================] - 1s 7ms/step - loss: 0.8171 - accuracy: 0.7304 - val_loss: 1.3919 - val_accuracy: 0.7241\n",
      "Epoch 69/70\n",
      "169/169 [==============================] - 1s 8ms/step - loss: 0.8305 - accuracy: 0.7272 - val_loss: 1.2173 - val_accuracy: 0.7004\n",
      "Epoch 70/70\n",
      "169/169 [==============================] - 1s 7ms/step - loss: 0.8118 - accuracy: 0.7306 - val_loss: 1.4079 - val_accuracy: 0.7163\n"
     ]
    }
   ],
   "source": [
    "hist_modelo5=modelo5.fit(datagen.flow(training_img_char, training_label_char), \n",
    "                 epochs=70,\n",
    "                 batch_size=256,\n",
    "                 validation_data=(validation_img_char, validation_label_char))"
   ]
  },
  {
   "cell_type": "code",
   "execution_count": 18,
   "id": "fcea6b9c-9e1f-4e93-95fe-0fe3ace7a765",
   "metadata": {},
   "outputs": [
    {
     "data": {
      "image/png": "[encoded data removed]",
      "text/plain": [
       "<Figure size 936x432 with 2 Axes>"
      ]
     },
     "metadata": {
      "needs_background": "light"
     },
     "output_type": "display_data"
    }
   ],
   "source": [
    "plotar_acuracia_loss(hist_modelo5,\"Modelo 5\")"
   ]
  },
  {
   "cell_type": "markdown",
   "id": "3d455beb-0091-4691-801b-5158f47462a5",
   "metadata": {},
   "source": [
    "Modelo 6 - 3 camadas convolucionais, Dropout e MLP com 256 unidades"
   ]
  },
  {
   "cell_type": "code",
   "execution_count": 9,
   "id": "df4cfbfc-02cd-4742-a036-1c5dd8f4ce4a",
   "metadata": {},
   "outputs": [
    {
     "name": "stderr",
     "output_type": "stream",
     "text": [
      "2022-04-13 20:00:04.232523: I tensorflow/stream_executor/cuda/cuda_gpu_executor.cc:936] successful NUMA node read from SysFS had negative value (-1), but there must be at least one NUMA node, so returning NUMA node zero\n",
      "2022-04-13 20:00:04.232767: I tensorflow/stream_executor/cuda/cuda_gpu_executor.cc:936] successful NUMA node read from SysFS had negative value (-1), but there must be at least one NUMA node, so returning NUMA node zero\n",
      "2022-04-13 20:00:04.232974: I tensorflow/stream_executor/cuda/cuda_gpu_executor.cc:936] successful NUMA node read from SysFS had negative value (-1), but there must be at least one NUMA node, so returning NUMA node zero\n",
      "2022-04-13 20:00:04.233652: I tensorflow/stream_executor/cuda/cuda_gpu_executor.cc:936] successful NUMA node read from SysFS had negative value (-1), but there must be at least one NUMA node, so returning NUMA node zero\n",
      "2022-04-13 20:00:04.233827: I tensorflow/stream_executor/cuda/cuda_gpu_executor.cc:936] successful NUMA node read from SysFS had negative value (-1), but there must be at least one NUMA node, so returning NUMA node zero\n",
      "2022-04-13 20:00:04.233986: I tensorflow/stream_executor/cuda/cuda_gpu_executor.cc:936] successful NUMA node read from SysFS had negative value (-1), but there must be at least one NUMA node, so returning NUMA node zero\n",
      "2022-04-13 20:00:04.234190: I tensorflow/stream_executor/cuda/cuda_gpu_executor.cc:936] successful NUMA node read from SysFS had negative value (-1), but there must be at least one NUMA node, so returning NUMA node zero\n",
      "2022-04-13 20:00:04.234355: I tensorflow/stream_executor/cuda/cuda_gpu_executor.cc:936] successful NUMA node read from SysFS had negative value (-1), but there must be at least one NUMA node, so returning NUMA node zero\n",
      "2022-04-13 20:00:04.234483: I tensorflow/core/common_runtime/gpu/gpu_device.cc:1525] Created device /job:localhost/replica:0/task:0/device:GPU:0 with 5023 MB memory:  -> device: 0, name: NVIDIA GeForce GTX 1060 6GB, pci bus id: 0000:01:00.0, compute capability: 6.1\n"
     ]
    }
   ],
   "source": [
    "modelo6 = models.Sequential([\n",
    "    layers.Conv2D(64,\n",
    "                  (3,3),\n",
    "                  activation='relu',\n",
    "                  input_shape=(17,11,1),\n",
    "                  padding='same'),\n",
    "    layers.MaxPooling2D(pool_size=(2,2),\n",
    "                       strides=2),\n",
    "    layers.Conv2D(64,\n",
    "                 (3,3),\n",
    "                 activation='relu',\n",
    "                 padding='same'),\n",
    "    layers.MaxPooling2D(pool_size=(2,2),\n",
    "                       strides=2),\n",
    "    layers.Conv2D(64,\n",
    "                 (3,3),\n",
    "                 activation='relu',\n",
    "                 padding='same'),\n",
    "    layers.MaxPooling2D(pool_size=(2,2),\n",
    "                       strides=2),\n",
    "    layers.Flatten(),\n",
    "    \n",
    "    layers.Dense(256,\n",
    "                activation='relu'),\n",
    "    layers.Dropout(0.5),\n",
    "    layers.Dense(256,\n",
    "                activation='relu'),\n",
    "    layers.Dropout(0.5),\n",
    "    layers.Dense(256,\n",
    "                activation='relu'),\n",
    "    layers.Dropout(0.5),\n",
    "    layers.Dense(26,\n",
    "                activation='softmax')\n",
    "])"
   ]
  },
  {
   "cell_type": "code",
   "execution_count": 10,
   "id": "b465c6ec-893c-416b-bd3d-6fd843c1e7a1",
   "metadata": {},
   "outputs": [],
   "source": [
    "modelo6.compile(optimizer = optimizers.Adam(learning_rate = 0.001),\n",
    "              loss='categorical_crossentropy',\n",
    "              metrics=['accuracy'])"
   ]
  },
  {
   "cell_type": "code",
   "execution_count": 11,
   "id": "6feb936b-eeed-45f7-a5c7-1976e100d43d",
   "metadata": {},
   "outputs": [
    {
     "name": "stdout",
     "output_type": "stream",
     "text": [
      "Epoch 1/90\n"
     ]
    },
    {
     "name": "stderr",
     "output_type": "stream",
     "text": [
      "2022-04-13 20:00:39.811209: I tensorflow/stream_executor/cuda/cuda_dnn.cc:368] Loaded cuDNN version 8303\n",
      "2022-04-13 20:00:41.241643: I tensorflow/core/platform/default/subprocess.cc:304] Start cannot spawn child process: No such file or directory\n"
     ]
    },
    {
     "name": "stdout",
     "output_type": "stream",
     "text": [
      "22/22 [==============================] - 5s 21ms/step - loss: 2.9938 - accuracy: 0.2437 - val_loss: 2.8662 - val_accuracy: 0.2889\n",
      "Epoch 2/90\n",
      "22/22 [==============================] - 0s 8ms/step - loss: 2.7954 - accuracy: 0.2722 - val_loss: 2.7286 - val_accuracy: 0.2889\n",
      "Epoch 3/90\n",
      "22/22 [==============================] - 0s 8ms/step - loss: 2.5916 - accuracy: 0.2737 - val_loss: 2.5517 - val_accuracy: 0.2963\n",
      "Epoch 4/90\n",
      "22/22 [==============================] - 0s 8ms/step - loss: 2.4079 - accuracy: 0.3252 - val_loss: 2.4630 - val_accuracy: 0.3526\n",
      "Epoch 5/90\n",
      "22/22 [==============================] - 0s 8ms/step - loss: 2.2206 - accuracy: 0.3630 - val_loss: 2.2192 - val_accuracy: 0.3700\n",
      "Epoch 6/90\n",
      "22/22 [==============================] - 0s 8ms/step - loss: 1.9819 - accuracy: 0.4087 - val_loss: 2.0427 - val_accuracy: 0.4467\n",
      "Epoch 7/90\n",
      "22/22 [==============================] - 0s 8ms/step - loss: 1.7375 - accuracy: 0.4685 - val_loss: 1.8224 - val_accuracy: 0.4385\n",
      "Epoch 8/90\n",
      "22/22 [==============================] - 0s 9ms/step - loss: 1.4946 - accuracy: 0.5428 - val_loss: 1.6128 - val_accuracy: 0.5130\n",
      "Epoch 9/90\n",
      "22/22 [==============================] - 0s 8ms/step - loss: 1.2760 - accuracy: 0.5926 - val_loss: 1.3500 - val_accuracy: 0.5837\n",
      "Epoch 10/90\n",
      "22/22 [==============================] - 0s 8ms/step - loss: 1.0468 - accuracy: 0.6496 - val_loss: 1.2593 - val_accuracy: 0.6274\n",
      "Epoch 11/90\n",
      "22/22 [==============================] - 0s 8ms/step - loss: 0.8411 - accuracy: 0.7024 - val_loss: 1.3915 - val_accuracy: 0.6467\n",
      "Epoch 12/90\n",
      "22/22 [==============================] - 0s 8ms/step - loss: 0.7087 - accuracy: 0.7494 - val_loss: 1.0914 - val_accuracy: 0.6967\n",
      "Epoch 13/90\n",
      "22/22 [==============================] - 0s 8ms/step - loss: 0.5577 - accuracy: 0.8093 - val_loss: 1.0169 - val_accuracy: 0.7348\n",
      "Epoch 14/90\n",
      "22/22 [==============================] - 0s 8ms/step - loss: 0.5078 - accuracy: 0.8209 - val_loss: 1.0686 - val_accuracy: 0.7470\n",
      "Epoch 15/90\n",
      "22/22 [==============================] - 0s 8ms/step - loss: 0.4082 - accuracy: 0.8633 - val_loss: 1.0266 - val_accuracy: 0.7467\n",
      "Epoch 16/90\n",
      "22/22 [==============================] - 0s 9ms/step - loss: 0.3292 - accuracy: 0.8880 - val_loss: 1.0299 - val_accuracy: 0.7889\n",
      "Epoch 17/90\n",
      "22/22 [==============================] - 0s 8ms/step - loss: 0.2738 - accuracy: 0.9133 - val_loss: 1.0878 - val_accuracy: 0.7856\n",
      "Epoch 18/90\n",
      "22/22 [==============================] - 0s 8ms/step - loss: 0.2407 - accuracy: 0.9235 - val_loss: 1.0220 - val_accuracy: 0.7993\n",
      "Epoch 19/90\n",
      "22/22 [==============================] - 0s 8ms/step - loss: 0.2219 - accuracy: 0.9244 - val_loss: 1.1411 - val_accuracy: 0.7856\n",
      "Epoch 20/90\n",
      "22/22 [==============================] - 0s 8ms/step - loss: 0.1897 - accuracy: 0.9393 - val_loss: 1.2655 - val_accuracy: 0.7796\n",
      "Epoch 21/90\n",
      "22/22 [==============================] - 0s 8ms/step - loss: 0.1711 - accuracy: 0.9472 - val_loss: 1.0508 - val_accuracy: 0.8052\n",
      "Epoch 22/90\n",
      "22/22 [==============================] - 0s 8ms/step - loss: 0.1527 - accuracy: 0.9491 - val_loss: 1.1536 - val_accuracy: 0.8100\n",
      "Epoch 23/90\n",
      "22/22 [==============================] - 0s 8ms/step - loss: 0.1249 - accuracy: 0.9639 - val_loss: 1.1625 - val_accuracy: 0.8141\n",
      "Epoch 24/90\n",
      "22/22 [==============================] - 0s 8ms/step - loss: 0.1154 - accuracy: 0.9644 - val_loss: 1.2311 - val_accuracy: 0.8037\n",
      "Epoch 25/90\n",
      "22/22 [==============================] - 0s 8ms/step - loss: 0.0945 - accuracy: 0.9726 - val_loss: 1.1331 - val_accuracy: 0.8044\n",
      "Epoch 26/90\n",
      "22/22 [==============================] - 0s 8ms/step - loss: 0.0901 - accuracy: 0.9700 - val_loss: 1.2167 - val_accuracy: 0.8078\n",
      "Epoch 27/90\n",
      "22/22 [==============================] - 0s 8ms/step - loss: 0.0925 - accuracy: 0.9709 - val_loss: 1.2856 - val_accuracy: 0.8078\n",
      "Epoch 28/90\n",
      "22/22 [==============================] - 0s 9ms/step - loss: 0.0934 - accuracy: 0.9706 - val_loss: 1.1629 - val_accuracy: 0.8096\n",
      "Epoch 29/90\n",
      "22/22 [==============================] - 0s 8ms/step - loss: 0.0804 - accuracy: 0.9770 - val_loss: 1.1870 - val_accuracy: 0.8285\n",
      "Epoch 30/90\n",
      "22/22 [==============================] - 0s 8ms/step - loss: 0.0767 - accuracy: 0.9776 - val_loss: 1.2251 - val_accuracy: 0.8111\n",
      "Epoch 31/90\n",
      "22/22 [==============================] - 0s 8ms/step - loss: 0.0614 - accuracy: 0.9839 - val_loss: 1.1902 - val_accuracy: 0.8285\n",
      "Epoch 32/90\n",
      "22/22 [==============================] - 0s 8ms/step - loss: 0.0598 - accuracy: 0.9824 - val_loss: 1.3570 - val_accuracy: 0.8144\n",
      "Epoch 33/90\n",
      "22/22 [==============================] - 0s 8ms/step - loss: 0.0550 - accuracy: 0.9848 - val_loss: 1.4457 - val_accuracy: 0.7970\n",
      "Epoch 34/90\n",
      "22/22 [==============================] - 0s 8ms/step - loss: 0.0564 - accuracy: 0.9826 - val_loss: 1.1749 - val_accuracy: 0.8244\n",
      "Epoch 35/90\n",
      "22/22 [==============================] - 0s 8ms/step - loss: 0.0479 - accuracy: 0.9844 - val_loss: 1.4048 - val_accuracy: 0.8078\n",
      "Epoch 36/90\n",
      "22/22 [==============================] - 0s 8ms/step - loss: 0.0674 - accuracy: 0.9793 - val_loss: 1.4538 - val_accuracy: 0.7993\n",
      "Epoch 37/90\n",
      "22/22 [==============================] - 0s 9ms/step - loss: 0.0534 - accuracy: 0.9822 - val_loss: 1.4004 - val_accuracy: 0.8104\n",
      "Epoch 38/90\n",
      "22/22 [==============================] - 0s 8ms/step - loss: 0.0462 - accuracy: 0.9872 - val_loss: 1.3384 - val_accuracy: 0.8244\n",
      "Epoch 39/90\n",
      "22/22 [==============================] - 0s 8ms/step - loss: 0.0612 - accuracy: 0.9831 - val_loss: 1.3660 - val_accuracy: 0.8033\n",
      "Epoch 40/90\n",
      "22/22 [==============================] - 0s 8ms/step - loss: 0.0482 - accuracy: 0.9869 - val_loss: 1.4693 - val_accuracy: 0.8167\n",
      "Epoch 41/90\n",
      "22/22 [==============================] - 0s 8ms/step - loss: 0.0358 - accuracy: 0.9907 - val_loss: 1.4117 - val_accuracy: 0.8174\n",
      "Epoch 42/90\n",
      "22/22 [==============================] - 0s 8ms/step - loss: 0.0247 - accuracy: 0.9915 - val_loss: 1.3731 - val_accuracy: 0.8230\n",
      "Epoch 43/90\n",
      "22/22 [==============================] - 0s 8ms/step - loss: 0.0250 - accuracy: 0.9926 - val_loss: 1.5306 - val_accuracy: 0.8159\n",
      "Epoch 44/90\n",
      "22/22 [==============================] - 0s 9ms/step - loss: 0.0297 - accuracy: 0.9909 - val_loss: 1.5536 - val_accuracy: 0.8237\n",
      "Epoch 45/90\n",
      "22/22 [==============================] - 0s 8ms/step - loss: 0.0274 - accuracy: 0.9919 - val_loss: 1.4873 - val_accuracy: 0.8341\n",
      "Epoch 46/90\n",
      "22/22 [==============================] - 0s 8ms/step - loss: 0.0230 - accuracy: 0.9933 - val_loss: 1.3727 - val_accuracy: 0.8348\n",
      "Epoch 47/90\n",
      "22/22 [==============================] - 0s 8ms/step - loss: 0.0265 - accuracy: 0.9909 - val_loss: 1.4082 - val_accuracy: 0.8137\n",
      "Epoch 48/90\n",
      "22/22 [==============================] - 0s 8ms/step - loss: 0.0257 - accuracy: 0.9928 - val_loss: 1.4902 - val_accuracy: 0.8189\n",
      "Epoch 49/90\n",
      "22/22 [==============================] - 0s 8ms/step - loss: 0.0223 - accuracy: 0.9939 - val_loss: 1.5569 - val_accuracy: 0.8111\n",
      "Epoch 50/90\n",
      "22/22 [==============================] - 0s 8ms/step - loss: 0.0236 - accuracy: 0.9943 - val_loss: 1.3357 - val_accuracy: 0.8348\n",
      "Epoch 51/90\n",
      "22/22 [==============================] - 0s 8ms/step - loss: 0.0216 - accuracy: 0.9931 - val_loss: 1.5612 - val_accuracy: 0.8274\n",
      "Epoch 52/90\n",
      "22/22 [==============================] - 0s 8ms/step - loss: 0.0194 - accuracy: 0.9948 - val_loss: 1.7512 - val_accuracy: 0.8148\n",
      "Epoch 53/90\n",
      "22/22 [==============================] - 0s 9ms/step - loss: 0.0173 - accuracy: 0.9950 - val_loss: 1.6118 - val_accuracy: 0.8222\n",
      "Epoch 54/90\n",
      "22/22 [==============================] - 0s 8ms/step - loss: 0.0263 - accuracy: 0.9906 - val_loss: 1.5499 - val_accuracy: 0.8289\n",
      "Epoch 55/90\n",
      "22/22 [==============================] - 0s 8ms/step - loss: 0.0208 - accuracy: 0.9939 - val_loss: 1.5191 - val_accuracy: 0.8307\n",
      "Epoch 56/90\n",
      "22/22 [==============================] - 0s 8ms/step - loss: 0.0182 - accuracy: 0.9948 - val_loss: 1.5648 - val_accuracy: 0.8248\n",
      "Epoch 57/90\n",
      "22/22 [==============================] - 0s 8ms/step - loss: 0.0154 - accuracy: 0.9954 - val_loss: 1.6798 - val_accuracy: 0.8200\n",
      "Epoch 58/90\n",
      "22/22 [==============================] - 0s 8ms/step - loss: 0.0195 - accuracy: 0.9952 - val_loss: 1.6980 - val_accuracy: 0.8152\n",
      "Epoch 59/90\n",
      "22/22 [==============================] - 0s 8ms/step - loss: 0.0284 - accuracy: 0.9919 - val_loss: 1.5093 - val_accuracy: 0.8237\n",
      "Epoch 60/90\n",
      "22/22 [==============================] - 0s 8ms/step - loss: 0.0174 - accuracy: 0.9948 - val_loss: 1.5374 - val_accuracy: 0.8219\n",
      "Epoch 61/90\n",
      "22/22 [==============================] - 0s 9ms/step - loss: 0.0153 - accuracy: 0.9957 - val_loss: 1.5511 - val_accuracy: 0.8148\n",
      "Epoch 62/90\n",
      "22/22 [==============================] - 0s 8ms/step - loss: 0.0154 - accuracy: 0.9950 - val_loss: 1.4913 - val_accuracy: 0.8278\n",
      "Epoch 63/90\n",
      "22/22 [==============================] - 0s 8ms/step - loss: 0.0141 - accuracy: 0.9959 - val_loss: 1.6904 - val_accuracy: 0.8059\n",
      "Epoch 64/90\n",
      "22/22 [==============================] - 0s 8ms/step - loss: 0.0156 - accuracy: 0.9961 - val_loss: 1.7944 - val_accuracy: 0.8085\n",
      "Epoch 65/90\n",
      "22/22 [==============================] - 0s 8ms/step - loss: 0.0159 - accuracy: 0.9952 - val_loss: 1.6537 - val_accuracy: 0.8263\n",
      "Epoch 66/90\n",
      "22/22 [==============================] - 0s 8ms/step - loss: 0.0176 - accuracy: 0.9950 - val_loss: 1.7369 - val_accuracy: 0.8130\n",
      "Epoch 67/90\n",
      "22/22 [==============================] - 0s 8ms/step - loss: 0.0247 - accuracy: 0.9931 - val_loss: 1.7193 - val_accuracy: 0.8252\n",
      "Epoch 68/90\n",
      "22/22 [==============================] - 0s 8ms/step - loss: 0.0560 - accuracy: 0.9833 - val_loss: 1.2405 - val_accuracy: 0.8333\n",
      "Epoch 69/90\n",
      "22/22 [==============================] - 0s 8ms/step - loss: 0.0248 - accuracy: 0.9943 - val_loss: 1.3915 - val_accuracy: 0.8400\n",
      "Epoch 70/90\n",
      "22/22 [==============================] - 0s 8ms/step - loss: 0.0154 - accuracy: 0.9959 - val_loss: 1.4987 - val_accuracy: 0.8370\n",
      "Epoch 71/90\n",
      "22/22 [==============================] - 0s 8ms/step - loss: 0.0147 - accuracy: 0.9959 - val_loss: 1.6555 - val_accuracy: 0.8148\n",
      "Epoch 72/90\n",
      "22/22 [==============================] - 0s 9ms/step - loss: 0.0309 - accuracy: 0.9906 - val_loss: 1.4755 - val_accuracy: 0.8348\n",
      "Epoch 73/90\n",
      "22/22 [==============================] - 0s 8ms/step - loss: 0.0146 - accuracy: 0.9946 - val_loss: 1.6443 - val_accuracy: 0.8233\n",
      "Epoch 74/90\n",
      "22/22 [==============================] - 0s 8ms/step - loss: 0.0199 - accuracy: 0.9933 - val_loss: 1.4797 - val_accuracy: 0.8226\n",
      "Epoch 75/90\n",
      "22/22 [==============================] - 0s 9ms/step - loss: 0.0134 - accuracy: 0.9961 - val_loss: 1.4950 - val_accuracy: 0.8300\n",
      "Epoch 76/90\n",
      "22/22 [==============================] - 0s 8ms/step - loss: 0.0243 - accuracy: 0.9924 - val_loss: 1.5051 - val_accuracy: 0.8119\n",
      "Epoch 77/90\n",
      "22/22 [==============================] - 0s 8ms/step - loss: 0.0122 - accuracy: 0.9965 - val_loss: 1.6999 - val_accuracy: 0.8222\n",
      "Epoch 78/90\n",
      "22/22 [==============================] - 0s 8ms/step - loss: 0.0091 - accuracy: 0.9970 - val_loss: 1.5976 - val_accuracy: 0.8396\n",
      "Epoch 79/90\n",
      "22/22 [==============================] - 0s 8ms/step - loss: 0.0122 - accuracy: 0.9956 - val_loss: 1.9181 - val_accuracy: 0.8148\n",
      "Epoch 80/90\n",
      "22/22 [==============================] - 0s 8ms/step - loss: 0.0059 - accuracy: 0.9991 - val_loss: 1.7066 - val_accuracy: 0.8226\n",
      "Epoch 81/90\n",
      "22/22 [==============================] - 0s 8ms/step - loss: 0.0081 - accuracy: 0.9974 - val_loss: 1.6650 - val_accuracy: 0.8359\n",
      "Epoch 82/90\n",
      "22/22 [==============================] - 0s 8ms/step - loss: 0.0128 - accuracy: 0.9959 - val_loss: 1.7490 - val_accuracy: 0.8219\n",
      "Epoch 83/90\n",
      "22/22 [==============================] - 0s 8ms/step - loss: 0.0131 - accuracy: 0.9967 - val_loss: 1.8527 - val_accuracy: 0.8178\n",
      "Epoch 84/90\n",
      "22/22 [==============================] - 0s 8ms/step - loss: 0.0113 - accuracy: 0.9965 - val_loss: 1.7607 - val_accuracy: 0.8167\n",
      "Epoch 85/90\n",
      "22/22 [==============================] - 0s 8ms/step - loss: 0.0069 - accuracy: 0.9978 - val_loss: 1.6315 - val_accuracy: 0.8315\n",
      "Epoch 86/90\n",
      "22/22 [==============================] - 0s 8ms/step - loss: 0.0135 - accuracy: 0.9956 - val_loss: 1.8165 - val_accuracy: 0.8159\n",
      "Epoch 87/90\n",
      "22/22 [==============================] - 0s 8ms/step - loss: 0.0116 - accuracy: 0.9970 - val_loss: 1.5457 - val_accuracy: 0.8244\n",
      "Epoch 88/90\n",
      "22/22 [==============================] - 0s 8ms/step - loss: 0.0116 - accuracy: 0.9967 - val_loss: 1.5789 - val_accuracy: 0.8274\n",
      "Epoch 89/90\n",
      "22/22 [==============================] - 0s 8ms/step - loss: 0.0097 - accuracy: 0.9970 - val_loss: 1.6029 - val_accuracy: 0.8215\n",
      "Epoch 90/90\n",
      "22/22 [==============================] - 0s 8ms/step - loss: 0.0068 - accuracy: 0.9981 - val_loss: 1.6626 - val_accuracy: 0.8278\n"
     ]
    }
   ],
   "source": [
    "hist_modelo6=modelo6.fit(training_img_char, training_label_char, \n",
    "                 epochs=90,\n",
    "                 batch_size=256,\n",
    "                 validation_data=(validation_img_char, validation_label_char))"
   ]
  },
  {
   "cell_type": "code",
   "execution_count": 12,
   "id": "7483c46d-ab67-46d7-9814-59074e7bafc2",
   "metadata": {},
   "outputs": [
    {
     "data": {
      "image/png": "[encoded data removed]",
      "text/plain": [
       "<Figure size 936x432 with 2 Axes>"
      ]
     },
     "metadata": {
      "needs_background": "light"
     },
     "output_type": "display_data"
    }
   ],
   "source": [
    "plotar_acuracia_loss(hist_modelo6,\"Modelo 6\")"
   ]
  },
  {
   "cell_type": "code",
   "execution_count": null,
   "id": "d6e1e007-d2b6-4760-abe1-06fa016d085a",
   "metadata": {},
   "outputs": [],
   "source": []
  }
 ],
 "metadata": {
  "kernelspec": {
   "display_name": "Python 3 (ipykernel)",
   "language": "python",
   "name": "python3"
  },
  "language_info": {
   "codemirror_mode": {
    "name": "ipython",
    "version": 3
   },
   "file_extension": ".py",
   "mimetype": "text/x-python",
   "name": "python",
   "nbconvert_exporter": "python",
   "pygments_lexer": "ipython3",
   "version": "3.9.2"
  }
 },
 "nbformat": 4,
 "nbformat_minor": 5
}
