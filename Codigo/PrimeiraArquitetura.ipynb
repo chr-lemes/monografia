{
 "cells": [
  {
   "cell_type": "code",
   "execution_count": 1,
   "id": "b3bcff0c-b7c9-4749-bf39-3f474fa163ac",
   "metadata": {},
   "outputs": [],
   "source": [
    "import tensorflow as tf\n",
    "import numpy as np\n",
    "import matplotlib.pyplot as plt\n",
    "import warnings\n",
    "from tensorflow.keras import layers, models, optimizers, utils, regularizers\n",
    "warnings.filterwarnings('ignore')\n",
    "tf.compat.v1.logging.set_verbosity(tf.compat.v1.logging.ERROR)"
   ]
  },
  {
   "cell_type": "code",
   "execution_count": 2,
   "id": "8840b20e-70f2-4f24-bfd3-d64c2df0e1c4",
   "metadata": {},
   "outputs": [
    {
     "name": "stderr",
     "output_type": "stream",
     "text": [
      "2022-03-29 17:26:36.418418: I tensorflow/core/platform/cpu_feature_guard.cc:151] This TensorFlow binary is optimized with oneAPI Deep Neural Network Library (oneDNN) to use the following CPU instructions in performance-critical operations:  AVX2 FMA\n",
      "To enable them in other operations, rebuild TensorFlow with the appropriate compiler flags.\n",
      "2022-03-29 17:26:36.447207: I tensorflow/stream_executor/cuda/cuda_gpu_executor.cc:936] successful NUMA node read from SysFS had negative value (-1), but there must be at least one NUMA node, so returning NUMA node zero\n",
      "2022-03-29 17:26:36.484542: I tensorflow/stream_executor/cuda/cuda_gpu_executor.cc:936] successful NUMA node read from SysFS had negative value (-1), but there must be at least one NUMA node, so returning NUMA node zero\n",
      "2022-03-29 17:26:36.484858: I tensorflow/stream_executor/cuda/cuda_gpu_executor.cc:936] successful NUMA node read from SysFS had negative value (-1), but there must be at least one NUMA node, so returning NUMA node zero\n",
      "2022-03-29 17:26:36.909364: I tensorflow/stream_executor/cuda/cuda_gpu_executor.cc:936] successful NUMA node read from SysFS had negative value (-1), but there must be at least one NUMA node, so returning NUMA node zero\n",
      "2022-03-29 17:26:36.909618: I tensorflow/stream_executor/cuda/cuda_gpu_executor.cc:936] successful NUMA node read from SysFS had negative value (-1), but there must be at least one NUMA node, so returning NUMA node zero\n",
      "2022-03-29 17:26:36.909787: I tensorflow/stream_executor/cuda/cuda_gpu_executor.cc:936] successful NUMA node read from SysFS had negative value (-1), but there must be at least one NUMA node, so returning NUMA node zero\n",
      "2022-03-29 17:26:36.909936: I tensorflow/core/common_runtime/gpu/gpu_device.cc:1525] Created device /device:GPU:0 with 4849 MB memory:  -> device: 0, name: NVIDIA GeForce GTX 1060 6GB, pci bus id: 0000:01:00.0, compute capability: 6.1\n"
     ]
    }
   ],
   "source": [
    "assert(tf.test.gpu_device_name())"
   ]
  },
  {
   "cell_type": "code",
   "execution_count": 3,
   "id": "d48d0214-63be-45af-bfe9-06205df29e5a",
   "metadata": {
    "tags": []
   },
   "outputs": [],
   "source": [
    "'''\n",
    "    Cria uma função (int_func) que transforma cada string num inteiro. numpy.vectorize aplica essa função elemento por elemento\n",
    "'''\n",
    "\n",
    "int_func=lambda x: int(x)\n",
    "vint_func=np.vectorize(int_func)"
   ]
  },
  {
   "cell_type": "code",
   "execution_count": 4,
   "id": "6c8642b6-ece2-4aaa-b3da-600e10326ee5",
   "metadata": {},
   "outputs": [],
   "source": [
    "'''\n",
    "    Cria uma função (ord_func) que transforma cada string num inteiro. numpy.vectorize aplica essa função elemento por elemento\n",
    "'''\n",
    "\n",
    "ord_func=lambda x: ord(x)\n",
    "vord_func=np.vectorize(ord_func)"
   ]
  },
  {
   "cell_type": "code",
   "execution_count": 5,
   "id": "66f7abbe-6162-4fd7-b186-906db72d4036",
   "metadata": {},
   "outputs": [],
   "source": [
    "'''\n",
    "    Lê os arquivos com os arrays das imagens. Divide por 255 para normalizar, pois as imagens eram grayscale. Expande o shape do array, \n",
    "    pois o keras precisa ler as entradas com 4 dimensões (batch_shape, rows, cols, channels). \n",
    "'''\n",
    "\n",
    "training_img_char=np.expand_dims(np.load('training_img_char.npy').astype('float32')/255,axis=-1)\n",
    "training_img_digit=np.expand_dims(np.load('training_img_digit.npy').astype('float32')/255,axis=-1)\n",
    "testing_img_char=np.expand_dims(np.load('testing_img_char.npy').astype('float32')/255,axis=1)\n",
    "testing_img_digit=np.expand_dims(np.load('testing_img_digit.npy').astype('float32')/255,axis=-1)\n",
    "validation_img_char=np.expand_dims(np.load('validation_img_char.npy').astype('float32')/255,axis=-1)\n",
    "validation_img_digit=np.expand_dims(np.load('validation_img_digit.npy').astype('float32')/255,axis=-1)"
   ]
  },
  {
   "cell_type": "code",
   "execution_count": 6,
   "id": "b7bfeb9b-350b-4069-844d-412e8978d002",
   "metadata": {},
   "outputs": [],
   "source": [
    "'''\n",
    "    Lê os arquivos com os arrays dos labels. Notar que tais arrays contêm strings. Será necessário convertê-los para int usando\n",
    "    a função ord(), quando o label for caractere, e int(), quando for inteiro. Cria o one-hot encode \n",
    "'''\n",
    "\n",
    "training_label_char=utils.to_categorical(vord_func(np.load('training_label_char.npy')))\n",
    "training_label_digit=utils.to_categorical(vint_func(np.load('training_label_digit.npy')))\n",
    "testing_label_char=utils.to_categorical(vord_func(np.load('testing_label_char.npy')))\n",
    "testing_label_digit=utils.to_categorical(vint_func(np.load('testing_label_digit.npy')))\n",
    "validation_label_char=utils.to_categorical(vord_func(np.load('validation_label_char.npy')))\n",
    "validation_label_digit=utils.to_categorical(vint_func(np.load('validation_label_digit.npy')))"
   ]
  },
  {
   "cell_type": "markdown",
   "id": "b8266a3e-115b-4027-97cd-283485baaa8a",
   "metadata": {},
   "source": [
    "##### Primeiro modelo para os dígitos"
   ]
  },
  {
   "cell_type": "code",
   "execution_count": 9,
   "id": "aeb3573e-5ba0-4fdc-afca-2ed335fa89de",
   "metadata": {},
   "outputs": [
    {
     "name": "stderr",
     "output_type": "stream",
     "text": [
      "2022-03-29 17:26:56.166210: I tensorflow/stream_executor/cuda/cuda_gpu_executor.cc:936] successful NUMA node read from SysFS had negative value (-1), but there must be at least one NUMA node, so returning NUMA node zero\n",
      "2022-03-29 17:26:56.166535: I tensorflow/stream_executor/cuda/cuda_gpu_executor.cc:936] successful NUMA node read from SysFS had negative value (-1), but there must be at least one NUMA node, so returning NUMA node zero\n",
      "2022-03-29 17:26:56.166735: I tensorflow/stream_executor/cuda/cuda_gpu_executor.cc:936] successful NUMA node read from SysFS had negative value (-1), but there must be at least one NUMA node, so returning NUMA node zero\n",
      "2022-03-29 17:26:56.167157: I tensorflow/stream_executor/cuda/cuda_gpu_executor.cc:936] successful NUMA node read from SysFS had negative value (-1), but there must be at least one NUMA node, so returning NUMA node zero\n",
      "2022-03-29 17:26:56.167367: I tensorflow/stream_executor/cuda/cuda_gpu_executor.cc:936] successful NUMA node read from SysFS had negative value (-1), but there must be at least one NUMA node, so returning NUMA node zero\n",
      "2022-03-29 17:26:56.167564: I tensorflow/stream_executor/cuda/cuda_gpu_executor.cc:936] successful NUMA node read from SysFS had negative value (-1), but there must be at least one NUMA node, so returning NUMA node zero\n",
      "2022-03-29 17:26:56.167812: I tensorflow/stream_executor/cuda/cuda_gpu_executor.cc:936] successful NUMA node read from SysFS had negative value (-1), but there must be at least one NUMA node, so returning NUMA node zero\n",
      "2022-03-29 17:26:56.168017: I tensorflow/stream_executor/cuda/cuda_gpu_executor.cc:936] successful NUMA node read from SysFS had negative value (-1), but there must be at least one NUMA node, so returning NUMA node zero\n",
      "2022-03-29 17:26:56.168190: I tensorflow/core/common_runtime/gpu/gpu_device.cc:1525] Created device /job:localhost/replica:0/task:0/device:GPU:0 with 4849 MB memory:  -> device: 0, name: NVIDIA GeForce GTX 1060 6GB, pci bus id: 0000:01:00.0, compute capability: 6.1\n"
     ]
    }
   ],
   "source": [
    "modelo1 = models.Sequential([\n",
    "    layers.Conv2D(64,\n",
    "                  (3,3),\n",
    "                  activation='relu',\n",
    "                  input_shape=(17,11,1),\n",
    "                  padding='same'),\n",
    "    layers.MaxPooling2D(pool_size=(2,2),\n",
    "                       strides=2),\n",
    "    layers.Conv2D(64,\n",
    "                 (3,3),\n",
    "                 activation='relu',\n",
    "                 padding='same'),\n",
    "    layers.MaxPooling2D(pool_size=(2,2),\n",
    "                       strides=2),\n",
    "    layers.Flatten(),\n",
    "    layers.Dense(256,\n",
    "                activation='relu'),\n",
    "    layers.Dense(10,\n",
    "                activation='softmax')\n",
    "])"
   ]
  },
  {
   "cell_type": "code",
   "execution_count": 10,
   "id": "c8594cc3-2d15-45f6-b082-ae82b3289e0f",
   "metadata": {},
   "outputs": [],
   "source": [
    "modelo1.compile(optimizer = optimizers.Adam(learning_rate = 0.001),\n",
    "              loss='categorical_crossentropy',\n",
    "              metrics=['accuracy'])"
   ]
  },
  {
   "cell_type": "code",
   "execution_count": 11,
   "id": "6af0d111-99b9-4bcc-adab-5d6d25f49b6a",
   "metadata": {},
   "outputs": [
    {
     "name": "stdout",
     "output_type": "stream",
     "text": [
      "Epoch 1/30\n"
     ]
    },
    {
     "name": "stderr",
     "output_type": "stream",
     "text": [
      "2022-03-29 17:27:01.314638: I tensorflow/stream_executor/cuda/cuda_dnn.cc:368] Loaded cuDNN version 8303\n",
      "2022-03-29 17:27:01.668902: I tensorflow/core/platform/default/subprocess.cc:304] Start cannot spawn child process: No such file or directory\n"
     ]
    },
    {
     "name": "stdout",
     "output_type": "stream",
     "text": [
      "15/15 [==============================] - 2s 25ms/step - loss: 2.2365 - accuracy: 0.1690 - val_loss: 2.1952 - val_accuracy: 0.1211\n",
      "Epoch 2/30\n",
      "15/15 [==============================] - 0s 11ms/step - loss: 1.9113 - accuracy: 0.4108 - val_loss: 1.7865 - val_accuracy: 0.5322\n",
      "Epoch 3/30\n",
      "15/15 [==============================] - 0s 11ms/step - loss: 1.4894 - accuracy: 0.6115 - val_loss: 1.3784 - val_accuracy: 0.6950\n",
      "Epoch 4/30\n",
      "15/15 [==============================] - 0s 11ms/step - loss: 1.1272 - accuracy: 0.7439 - val_loss: 1.1226 - val_accuracy: 0.7536\n",
      "Epoch 5/30\n",
      "15/15 [==============================] - 0s 11ms/step - loss: 0.8092 - accuracy: 0.8174 - val_loss: 0.9283 - val_accuracy: 0.8017\n",
      "Epoch 6/30\n",
      "15/15 [==============================] - 0s 11ms/step - loss: 0.5554 - accuracy: 0.8889 - val_loss: 0.7672 - val_accuracy: 0.8256\n",
      "Epoch 7/30\n",
      "15/15 [==============================] - 0s 11ms/step - loss: 0.3806 - accuracy: 0.9285 - val_loss: 0.6607 - val_accuracy: 0.8300\n",
      "Epoch 8/30\n",
      "15/15 [==============================] - 0s 11ms/step - loss: 0.2916 - accuracy: 0.9339 - val_loss: 0.5446 - val_accuracy: 0.8719\n",
      "Epoch 9/30\n",
      "15/15 [==============================] - 0s 11ms/step - loss: 0.2168 - accuracy: 0.9551 - val_loss: 0.7569 - val_accuracy: 0.7869\n",
      "Epoch 10/30\n",
      "15/15 [==============================] - 0s 10ms/step - loss: 0.3007 - accuracy: 0.9121 - val_loss: 0.4709 - val_accuracy: 0.8908\n",
      "Epoch 11/30\n",
      "15/15 [==============================] - 0s 10ms/step - loss: 0.1989 - accuracy: 0.9567 - val_loss: 0.5642 - val_accuracy: 0.8467\n",
      "Epoch 12/30\n",
      "15/15 [==============================] - 0s 10ms/step - loss: 0.1544 - accuracy: 0.9664 - val_loss: 0.4907 - val_accuracy: 0.8914\n",
      "Epoch 13/30\n",
      "15/15 [==============================] - 0s 10ms/step - loss: 0.1168 - accuracy: 0.9812 - val_loss: 0.4512 - val_accuracy: 0.8858\n",
      "Epoch 14/30\n",
      "15/15 [==============================] - 0s 11ms/step - loss: 0.0931 - accuracy: 0.9897 - val_loss: 0.4200 - val_accuracy: 0.9189\n",
      "Epoch 15/30\n",
      "15/15 [==============================] - 0s 11ms/step - loss: 0.0799 - accuracy: 0.9918 - val_loss: 0.4980 - val_accuracy: 0.8825\n",
      "Epoch 16/30\n",
      "15/15 [==============================] - 0s 10ms/step - loss: 0.0801 - accuracy: 0.9851 - val_loss: 0.4034 - val_accuracy: 0.9244\n",
      "Epoch 17/30\n",
      "15/15 [==============================] - 0s 10ms/step - loss: 0.0713 - accuracy: 0.9890 - val_loss: 0.4463 - val_accuracy: 0.9061\n",
      "Epoch 18/30\n",
      "15/15 [==============================] - 0s 10ms/step - loss: 0.0734 - accuracy: 0.9857 - val_loss: 0.4246 - val_accuracy: 0.9217\n",
      "Epoch 19/30\n",
      "15/15 [==============================] - 0s 11ms/step - loss: 0.0652 - accuracy: 0.9910 - val_loss: 0.4708 - val_accuracy: 0.8933\n",
      "Epoch 20/30\n",
      "15/15 [==============================] - 0s 11ms/step - loss: 0.0513 - accuracy: 0.9936 - val_loss: 0.4520 - val_accuracy: 0.9161\n",
      "Epoch 21/30\n",
      "15/15 [==============================] - 0s 11ms/step - loss: 0.0451 - accuracy: 0.9937 - val_loss: 0.4858 - val_accuracy: 0.9172\n",
      "Epoch 22/30\n",
      "15/15 [==============================] - 0s 11ms/step - loss: 0.0487 - accuracy: 0.9921 - val_loss: 0.4162 - val_accuracy: 0.9294\n",
      "Epoch 23/30\n",
      "15/15 [==============================] - 0s 11ms/step - loss: 0.0363 - accuracy: 0.9962 - val_loss: 0.4196 - val_accuracy: 0.9331\n",
      "Epoch 24/30\n",
      "15/15 [==============================] - 0s 11ms/step - loss: 0.0306 - accuracy: 0.9974 - val_loss: 0.4347 - val_accuracy: 0.9361\n",
      "Epoch 25/30\n",
      "15/15 [==============================] - 0s 10ms/step - loss: 0.0292 - accuracy: 0.9971 - val_loss: 0.4576 - val_accuracy: 0.9350\n",
      "Epoch 26/30\n",
      "15/15 [==============================] - 0s 10ms/step - loss: 0.0277 - accuracy: 0.9972 - val_loss: 0.4295 - val_accuracy: 0.9356\n",
      "Epoch 27/30\n",
      "15/15 [==============================] - 0s 10ms/step - loss: 0.0263 - accuracy: 0.9968 - val_loss: 0.4338 - val_accuracy: 0.9306\n",
      "Epoch 28/30\n",
      "15/15 [==============================] - 0s 10ms/step - loss: 0.0225 - accuracy: 0.9983 - val_loss: 0.4689 - val_accuracy: 0.9317\n",
      "Epoch 29/30\n",
      "15/15 [==============================] - 0s 11ms/step - loss: 0.0251 - accuracy: 0.9961 - val_loss: 0.4448 - val_accuracy: 0.9386\n",
      "Epoch 30/30\n",
      "15/15 [==============================] - 0s 11ms/step - loss: 0.0204 - accuracy: 0.9983 - val_loss: 0.4137 - val_accuracy: 0.9408\n"
     ]
    }
   ],
   "source": [
    "hist_modelo1=modelo1.fit(training_img_digit, training_label_digit, \n",
    "                 epochs=30,\n",
    "                 batch_size=512,\n",
    "                 validation_data=(validation_img_digit, validation_label_digit))"
   ]
  },
  {
   "cell_type": "code",
   "execution_count": 12,
   "id": "1f595a23-4f93-4e1b-97a1-2a1ded315ac3",
   "metadata": {},
   "outputs": [
    {
     "data": {
      "image/png": "[encoded data removed]",
      "text/plain": [
       "<Figure size 936x432 with 2 Axes>"
      ]
     },
     "metadata": {
      "needs_background": "light"
     },
     "output_type": "display_data"
    }
   ],
   "source": [
    "epochs=range(1,len(hist_modelo1.history['accuracy'])+1)\n",
    "\n",
    "plt.rcParams[\"figure.figsize\"] = (13,6)\n",
    "\n",
    "plt.subplot(1, 2, 1)\n",
    "\n",
    "plt.plot(epochs, hist_modelo1.history['accuracy'], color='orange', label='Acurácia de treino')\n",
    "plt.plot(epochs,hist_modelo1.history['val_accuracy'], 'b', label ='Acurácia de validação')\n",
    "plt.title('Acurácia de treino e validação do modelo 1')\n",
    "plt.xlabel('Epochs')\n",
    "plt.ylabel('Acurácia')\n",
    "plt.legend()\n",
    "\n",
    "plt.subplot(1, 2, 2)\n",
    "\n",
    "plt.plot(epochs, hist_modelo1.history['loss'], color='orange', label='Perda de treino')\n",
    "plt.plot(epochs,hist_modelo1.history['val_loss'], 'b', label ='Perda de validação')\n",
    "plt.title('Perda de treino e validação do modelo 1')\n",
    "plt.xlabel('Epochs')\n",
    "plt.ylabel('Perda')\n",
    "plt.legend()\n",
    "\n",
    "plt.show()"
   ]
  },
  {
   "cell_type": "code",
   "execution_count": null,
   "id": "bbb0a470-2a5f-4c56-9a03-466c0addf4c5",
   "metadata": {},
   "outputs": [],
   "source": []
  }
 ],
 "metadata": {
  "kernelspec": {
   "display_name": "Python 3 (ipykernel)",
   "language": "python",
   "name": "python3"
  },
  "language_info": {
   "codemirror_mode": {
    "name": "ipython",
    "version": 3
   },
   "file_extension": ".py",
   "mimetype": "text/x-python",
   "name": "python",
   "nbconvert_exporter": "python",
   "pygments_lexer": "ipython3",
   "version": "3.9.2"
  }
 },
 "nbformat": 4,
 "nbformat_minor": 5
}
