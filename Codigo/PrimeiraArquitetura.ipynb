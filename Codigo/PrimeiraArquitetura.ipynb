{
 "cells": [
  {
   "cell_type": "code",
   "execution_count": 1,
   "id": "b3bcff0c-b7c9-4749-bf39-3f474fa163ac",
   "metadata": {},
   "outputs": [],
   "source": [
    "import tensorflow as tf\n",
    "import numpy as np\n",
    "import matplotlib.pyplot as plt\n",
    "import warnings\n",
    "from tensorflow.keras import layers, models, optimizers, utils, regularizers\n",
    "warnings.filterwarnings('ignore')\n",
    "tf.compat.v1.logging.set_verbosity(tf.compat.v1.logging.ERROR)"
   ]
  },
  {
   "cell_type": "code",
   "execution_count": 2,
   "id": "8840b20e-70f2-4f24-bfd3-d64c2df0e1c4",
   "metadata": {},
   "outputs": [
    {
     "name": "stderr",
     "output_type": "stream",
     "text": [
      "2022-03-30 15:52:11.286894: I tensorflow/core/platform/cpu_feature_guard.cc:151] This TensorFlow binary is optimized with oneAPI Deep Neural Network Library (oneDNN) to use the following CPU instructions in performance-critical operations:  AVX2 FMA\n",
      "To enable them in other operations, rebuild TensorFlow with the appropriate compiler flags.\n",
      "2022-03-30 15:52:11.356114: I tensorflow/stream_executor/cuda/cuda_gpu_executor.cc:936] successful NUMA node read from SysFS had negative value (-1), but there must be at least one NUMA node, so returning NUMA node zero\n",
      "2022-03-30 15:52:11.404635: I tensorflow/stream_executor/cuda/cuda_gpu_executor.cc:936] successful NUMA node read from SysFS had negative value (-1), but there must be at least one NUMA node, so returning NUMA node zero\n",
      "2022-03-30 15:52:11.404853: I tensorflow/stream_executor/cuda/cuda_gpu_executor.cc:936] successful NUMA node read from SysFS had negative value (-1), but there must be at least one NUMA node, so returning NUMA node zero\n",
      "2022-03-30 15:52:11.813206: I tensorflow/stream_executor/cuda/cuda_gpu_executor.cc:936] successful NUMA node read from SysFS had negative value (-1), but there must be at least one NUMA node, so returning NUMA node zero\n",
      "2022-03-30 15:52:11.813425: I tensorflow/stream_executor/cuda/cuda_gpu_executor.cc:936] successful NUMA node read from SysFS had negative value (-1), but there must be at least one NUMA node, so returning NUMA node zero\n",
      "2022-03-30 15:52:11.813595: I tensorflow/stream_executor/cuda/cuda_gpu_executor.cc:936] successful NUMA node read from SysFS had negative value (-1), but there must be at least one NUMA node, so returning NUMA node zero\n",
      "2022-03-30 15:52:11.813743: I tensorflow/core/common_runtime/gpu/gpu_device.cc:1525] Created device /device:GPU:0 with 5030 MB memory:  -> device: 0, name: NVIDIA GeForce GTX 1060 6GB, pci bus id: 0000:01:00.0, compute capability: 6.1\n"
     ]
    }
   ],
   "source": [
    "assert(tf.test.gpu_device_name())"
   ]
  },
  {
   "cell_type": "code",
   "execution_count": 3,
   "id": "d48d0214-63be-45af-bfe9-06205df29e5a",
   "metadata": {
    "tags": []
   },
   "outputs": [],
   "source": [
    "'''\n",
    "    Cria uma função (int_func) que transforma cada string num inteiro. numpy.vectorize aplica essa função elemento por elemento\n",
    "'''\n",
    "\n",
    "int_func=lambda x: int(x)\n",
    "vint_func=np.vectorize(int_func)"
   ]
  },
  {
   "cell_type": "code",
   "execution_count": 4,
   "id": "6c8642b6-ece2-4aaa-b3da-600e10326ee5",
   "metadata": {},
   "outputs": [],
   "source": [
    "'''\n",
    "    Cria uma função (ord_func) que transforma cada string num inteiro. numpy.vectorize aplica essa função elemento por elemento\n",
    "'''\n",
    "\n",
    "ord_func=lambda x: ord(x)-65 ## ATENÇÃO: veja abaixo o motivo de ter subtraído 65\n",
    "vord_func=np.vectorize(ord_func)"
   ]
  },
  {
   "cell_type": "markdown",
   "id": "8e390da4-9d8d-47f3-8d46-f4e7522b1b4f",
   "metadata": {},
   "source": [
    "#### Um breve interregno"
   ]
  },
  {
   "cell_type": "markdown",
   "id": "69b49efc-ea5a-4fbe-905d-1a7af1547daf",
   "metadata": {},
   "source": [
    "Aqui faz-se necessário explicar de forma mais detalhada o motivo de subtrair 65 na função acima. De acordo com a documentação, ord(c) recebe uma string representando um único caractere Unicode e retorna um inteiro representando o código Unicode daquele caractere. 'A' tem o código 65, 'B' é 66, ... e 'Z' é 90. Assim, caso fizesse ord_func sem subtrair 65, teríamos"
   ]
  },
  {
   "cell_type": "code",
   "execution_count": 5,
   "id": "f998baf1-a9c6-4086-bccb-f70af1502dc3",
   "metadata": {},
   "outputs": [],
   "source": [
    "temp_func=lambda x: ord(x) \n",
    "vtemp_func=np.vectorize(temp_func)"
   ]
  },
  {
   "cell_type": "code",
   "execution_count": 6,
   "id": "bd77e767-8ded-4d0e-8afa-22fdc041556b",
   "metadata": {},
   "outputs": [
    {
     "data": {
      "text/plain": [
       "array(['A', 'B', 'C', 'D', 'E', 'F', 'G', 'H', 'I', 'J', 'K', 'L', 'M',\n",
       "       'N', 'O', 'P', 'Q', 'R', 'S', 'T', 'U', 'V', 'W', 'X', 'Y', 'Z'],\n",
       "      dtype='<U1')"
      ]
     },
     "execution_count": 6,
     "metadata": {},
     "output_type": "execute_result"
    }
   ],
   "source": [
    "temp=np.load('training_label_char.npy')\n",
    "np.unique(temp)"
   ]
  },
  {
   "cell_type": "markdown",
   "id": "3114f9d7-0062-4c2b-a2d1-eb25697ce261",
   "metadata": {},
   "source": [
    "Dados os códigos Unicode para as letras, ao converter o array acima teríamos"
   ]
  },
  {
   "cell_type": "code",
   "execution_count": 7,
   "id": "eb7f5d21-9516-4395-9b60-e22419fd6bbd",
   "metadata": {},
   "outputs": [
    {
     "data": {
      "text/plain": [
       "array([65, 66, 67, 68, 69, 70, 71, 72, 73, 74, 75, 76, 77, 78, 79, 80, 81,\n",
       "       82, 83, 84, 85, 86, 87, 88, 89, 90])"
      ]
     },
     "execution_count": 7,
     "metadata": {},
     "output_type": "execute_result"
    }
   ],
   "source": [
    "ar=vtemp_func(temp)\n",
    "np.unique(ar)"
   ]
  },
  {
   "cell_type": "markdown",
   "id": "bc1bb43c-26bd-4770-8f0c-1615e4c9cb8f",
   "metadata": {},
   "source": [
    "Ocorre que, ao passar esse array pela função keras.util.to_categorical, esta irá criar o one-hot com 91 posições. O shape será"
   ]
  },
  {
   "cell_type": "code",
   "execution_count": 8,
   "id": "9d890585-175b-4f5b-b97c-f04ffce0ca31",
   "metadata": {},
   "outputs": [
    {
     "data": {
      "text/plain": [
       "(5400, 91)"
      ]
     },
     "execution_count": 8,
     "metadata": {},
     "output_type": "execute_result"
    }
   ],
   "source": [
    "utils.to_categorical(ar).shape"
   ]
  },
  {
   "cell_type": "markdown",
   "id": "46bf4611-e206-487c-9cd2-4728234f08b9",
   "metadata": {},
   "source": [
    "Dessa forma, subtraindo 65 da função ord(c), conseguimos ter um array com shape (5400,26)\n",
    "\n",
    "Fim do interregno"
   ]
  },
  {
   "cell_type": "code",
   "execution_count": 9,
   "id": "01d2f07e-a96b-4a01-b857-86ba772516b8",
   "metadata": {},
   "outputs": [],
   "source": [
    "def load_img_array(file):\n",
    "    '''\n",
    "    Lê os arquivos com os arrays das imagens. Divide por 255 para normalizar, pois as imagens eram grayscale. Expande o shape do array, \n",
    "    pois o keras precisa ler as entradas com 4 dimensões (batch_shape, rows, cols, channels). \n",
    "    '''\n",
    "    temp=np.load(file)\n",
    "    temp=temp.astype('float32')/255\n",
    "    temp=np.expand_dims(temp,axis=-1)\n",
    "    \n",
    "    return temp"
   ]
  },
  {
   "cell_type": "code",
   "execution_count": 10,
   "id": "66f7abbe-6162-4fd7-b186-906db72d4036",
   "metadata": {},
   "outputs": [],
   "source": [
    "training_img_char=load_img_array('training_img_char.npy')\n",
    "training_img_digit=load_img_array('training_img_digit.npy')\n",
    "testing_img_char=load_img_array('testing_img_char.npy')\n",
    "testing_img_digit=load_img_array('testing_img_digit.npy')\n",
    "validation_img_char=load_img_array('validation_img_char.npy')\n",
    "validation_img_digit=load_img_array('validation_img_digit.npy')"
   ]
  },
  {
   "cell_type": "code",
   "execution_count": 11,
   "id": "b7bfeb9b-350b-4069-844d-412e8978d002",
   "metadata": {},
   "outputs": [],
   "source": [
    "'''\n",
    "    Lê os arquivos com os arrays dos labels. Notar que tais arrays contêm strings. Será necessário convertê-los para int usando\n",
    "    a função ord(), quando o label for caractere, e int(), quando for inteiro. Cria o one-hot encode \n",
    "'''\n",
    "\n",
    "training_label_char=utils.to_categorical(vord_func(np.load('training_label_char.npy')))\n",
    "training_label_digit=utils.to_categorical(vint_func(np.load('training_label_digit.npy')))\n",
    "testing_label_char=utils.to_categorical(vord_func(np.load('testing_label_char.npy')))\n",
    "testing_label_digit=utils.to_categorical(vint_func(np.load('testing_label_digit.npy')))\n",
    "validation_label_char=utils.to_categorical(vord_func(np.load('validation_label_char.npy')))\n",
    "validation_label_digit=utils.to_categorical(vint_func(np.load('validation_label_digit.npy')))"
   ]
  },
  {
   "cell_type": "markdown",
   "id": "b8266a3e-115b-4027-97cd-283485baaa8a",
   "metadata": {},
   "source": [
    "##### Primeiro modelo para os dígitos"
   ]
  },
  {
   "cell_type": "code",
   "execution_count": 12,
   "id": "aeb3573e-5ba0-4fdc-afca-2ed335fa89de",
   "metadata": {},
   "outputs": [
    {
     "name": "stderr",
     "output_type": "stream",
     "text": [
      "2022-03-30 15:52:30.494642: I tensorflow/stream_executor/cuda/cuda_gpu_executor.cc:936] successful NUMA node read from SysFS had negative value (-1), but there must be at least one NUMA node, so returning NUMA node zero\n",
      "2022-03-30 15:52:30.494935: I tensorflow/stream_executor/cuda/cuda_gpu_executor.cc:936] successful NUMA node read from SysFS had negative value (-1), but there must be at least one NUMA node, so returning NUMA node zero\n",
      "2022-03-30 15:52:30.495373: I tensorflow/stream_executor/cuda/cuda_gpu_executor.cc:936] successful NUMA node read from SysFS had negative value (-1), but there must be at least one NUMA node, so returning NUMA node zero\n",
      "2022-03-30 15:52:30.495885: I tensorflow/stream_executor/cuda/cuda_gpu_executor.cc:936] successful NUMA node read from SysFS had negative value (-1), but there must be at least one NUMA node, so returning NUMA node zero\n",
      "2022-03-30 15:52:30.496078: I tensorflow/stream_executor/cuda/cuda_gpu_executor.cc:936] successful NUMA node read from SysFS had negative value (-1), but there must be at least one NUMA node, so returning NUMA node zero\n",
      "2022-03-30 15:52:30.496243: I tensorflow/stream_executor/cuda/cuda_gpu_executor.cc:936] successful NUMA node read from SysFS had negative value (-1), but there must be at least one NUMA node, so returning NUMA node zero\n",
      "2022-03-30 15:52:30.496459: I tensorflow/stream_executor/cuda/cuda_gpu_executor.cc:936] successful NUMA node read from SysFS had negative value (-1), but there must be at least one NUMA node, so returning NUMA node zero\n",
      "2022-03-30 15:52:30.496627: I tensorflow/stream_executor/cuda/cuda_gpu_executor.cc:936] successful NUMA node read from SysFS had negative value (-1), but there must be at least one NUMA node, so returning NUMA node zero\n",
      "2022-03-30 15:52:30.496758: I tensorflow/core/common_runtime/gpu/gpu_device.cc:1525] Created device /job:localhost/replica:0/task:0/device:GPU:0 with 5030 MB memory:  -> device: 0, name: NVIDIA GeForce GTX 1060 6GB, pci bus id: 0000:01:00.0, compute capability: 6.1\n"
     ]
    }
   ],
   "source": [
    "modelo1 = models.Sequential([\n",
    "    layers.Conv2D(64,\n",
    "                  (3,3),\n",
    "                  activation='relu',\n",
    "                  input_shape=(17,11,1),\n",
    "                  padding='same'),\n",
    "    layers.MaxPooling2D(pool_size=(2,2),\n",
    "                       strides=2),\n",
    "    layers.Conv2D(64,\n",
    "                 (3,3),\n",
    "                 activation='relu',\n",
    "                 padding='same'),\n",
    "    layers.MaxPooling2D(pool_size=(2,2),\n",
    "                       strides=2),\n",
    "    layers.Flatten(),\n",
    "    layers.Dense(100,\n",
    "                activation='relu'),\n",
    "    layers.Dense(100,\n",
    "                activation='relu'),\n",
    "    layers.Dense(100,\n",
    "                activation='relu'),\n",
    "    layers.Dense(10,\n",
    "                activation='softmax')\n",
    "])"
   ]
  },
  {
   "cell_type": "code",
   "execution_count": 13,
   "id": "c8594cc3-2d15-45f6-b082-ae82b3289e0f",
   "metadata": {},
   "outputs": [],
   "source": [
    "modelo1.compile(optimizer = optimizers.Adam(learning_rate = 0.001),\n",
    "              loss='categorical_crossentropy',\n",
    "              metrics=['accuracy'])"
   ]
  },
  {
   "cell_type": "code",
   "execution_count": 14,
   "id": "6af0d111-99b9-4bcc-adab-5d6d25f49b6a",
   "metadata": {},
   "outputs": [
    {
     "name": "stdout",
     "output_type": "stream",
     "text": [
      "Epoch 1/30\n"
     ]
    },
    {
     "name": "stderr",
     "output_type": "stream",
     "text": [
      "2022-03-30 15:52:34.060529: I tensorflow/stream_executor/cuda/cuda_dnn.cc:368] Loaded cuDNN version 8303\n",
      "2022-03-30 15:52:34.403631: I tensorflow/core/platform/default/subprocess.cc:304] Start cannot spawn child process: No such file or directory\n"
     ]
    },
    {
     "name": "stdout",
     "output_type": "stream",
     "text": [
      "15/15 [==============================] - 2s 26ms/step - loss: 2.2753 - accuracy: 0.1454 - val_loss: 2.3079 - val_accuracy: 0.1197\n",
      "Epoch 2/30\n",
      "15/15 [==============================] - 0s 11ms/step - loss: 2.1190 - accuracy: 0.2611 - val_loss: 2.0863 - val_accuracy: 0.1553\n",
      "Epoch 3/30\n",
      "15/15 [==============================] - 0s 11ms/step - loss: 1.8332 - accuracy: 0.3851 - val_loss: 1.7782 - val_accuracy: 0.3331\n",
      "Epoch 4/30\n",
      "15/15 [==============================] - 0s 11ms/step - loss: 1.5436 - accuracy: 0.5443 - val_loss: 1.4901 - val_accuracy: 0.5744\n",
      "Epoch 5/30\n",
      "15/15 [==============================] - 0s 10ms/step - loss: 1.1707 - accuracy: 0.6899 - val_loss: 1.1580 - val_accuracy: 0.6869\n",
      "Epoch 6/30\n",
      "15/15 [==============================] - 0s 10ms/step - loss: 0.7807 - accuracy: 0.7785 - val_loss: 0.9923 - val_accuracy: 0.7122\n",
      "Epoch 7/30\n",
      "15/15 [==============================] - 0s 10ms/step - loss: 0.5269 - accuracy: 0.8589 - val_loss: 0.7451 - val_accuracy: 0.7558\n",
      "Epoch 8/30\n",
      "15/15 [==============================] - 0s 10ms/step - loss: 0.3594 - accuracy: 0.9071 - val_loss: 0.6364 - val_accuracy: 0.8156\n",
      "Epoch 9/30\n",
      "15/15 [==============================] - 0s 11ms/step - loss: 0.2621 - accuracy: 0.9297 - val_loss: 0.5096 - val_accuracy: 0.8781\n",
      "Epoch 10/30\n",
      "15/15 [==============================] - 0s 11ms/step - loss: 0.1849 - accuracy: 0.9540 - val_loss: 0.5161 - val_accuracy: 0.8639\n",
      "Epoch 11/30\n",
      "15/15 [==============================] - 0s 11ms/step - loss: 0.1482 - accuracy: 0.9647 - val_loss: 0.5293 - val_accuracy: 0.8778\n",
      "Epoch 12/30\n",
      "15/15 [==============================] - 0s 11ms/step - loss: 0.1221 - accuracy: 0.9706 - val_loss: 0.4930 - val_accuracy: 0.8894\n",
      "Epoch 13/30\n",
      "15/15 [==============================] - 0s 11ms/step - loss: 0.1018 - accuracy: 0.9736 - val_loss: 0.4474 - val_accuracy: 0.9061\n",
      "Epoch 14/30\n",
      "15/15 [==============================] - 0s 11ms/step - loss: 0.0870 - accuracy: 0.9787 - val_loss: 0.4191 - val_accuracy: 0.9106\n",
      "Epoch 15/30\n",
      "15/15 [==============================] - 0s 10ms/step - loss: 0.0681 - accuracy: 0.9867 - val_loss: 0.4192 - val_accuracy: 0.9331\n",
      "Epoch 16/30\n",
      "15/15 [==============================] - 0s 10ms/step - loss: 0.0524 - accuracy: 0.9926 - val_loss: 0.4183 - val_accuracy: 0.9197\n",
      "Epoch 17/30\n",
      "15/15 [==============================] - 0s 10ms/step - loss: 0.0420 - accuracy: 0.9943 - val_loss: 0.4345 - val_accuracy: 0.9336\n",
      "Epoch 18/30\n",
      "15/15 [==============================] - 0s 10ms/step - loss: 0.0496 - accuracy: 0.9894 - val_loss: 0.4755 - val_accuracy: 0.8953\n",
      "Epoch 19/30\n",
      "15/15 [==============================] - 0s 10ms/step - loss: 0.0483 - accuracy: 0.9878 - val_loss: 0.3998 - val_accuracy: 0.9400\n",
      "Epoch 20/30\n",
      "15/15 [==============================] - 0s 11ms/step - loss: 0.0333 - accuracy: 0.9950 - val_loss: 0.6817 - val_accuracy: 0.8403\n",
      "Epoch 21/30\n",
      "15/15 [==============================] - 0s 11ms/step - loss: 0.1372 - accuracy: 0.9557 - val_loss: 0.4327 - val_accuracy: 0.9303\n",
      "Epoch 22/30\n",
      "15/15 [==============================] - 0s 11ms/step - loss: 0.0580 - accuracy: 0.9829 - val_loss: 0.3916 - val_accuracy: 0.9239\n",
      "Epoch 23/30\n",
      "15/15 [==============================] - 0s 11ms/step - loss: 0.0304 - accuracy: 0.9967 - val_loss: 0.3921 - val_accuracy: 0.9344\n",
      "Epoch 24/30\n",
      "15/15 [==============================] - 0s 11ms/step - loss: 0.0323 - accuracy: 0.9939 - val_loss: 0.4618 - val_accuracy: 0.9286\n",
      "Epoch 25/30\n",
      "15/15 [==============================] - 0s 11ms/step - loss: 0.0231 - accuracy: 0.9965 - val_loss: 0.4039 - val_accuracy: 0.9319\n",
      "Epoch 26/30\n",
      "15/15 [==============================] - 0s 11ms/step - loss: 0.0162 - accuracy: 0.9979 - val_loss: 0.4317 - val_accuracy: 0.9278\n",
      "Epoch 27/30\n",
      "15/15 [==============================] - 0s 11ms/step - loss: 0.0135 - accuracy: 0.9986 - val_loss: 0.4696 - val_accuracy: 0.9125\n",
      "Epoch 28/30\n",
      "15/15 [==============================] - 0s 11ms/step - loss: 0.0216 - accuracy: 0.9947 - val_loss: 0.4371 - val_accuracy: 0.9244\n",
      "Epoch 29/30\n",
      "15/15 [==============================] - 0s 11ms/step - loss: 0.0136 - accuracy: 0.9982 - val_loss: 0.4381 - val_accuracy: 0.9178\n",
      "Epoch 30/30\n",
      "15/15 [==============================] - 0s 10ms/step - loss: 0.0131 - accuracy: 0.9982 - val_loss: 0.4088 - val_accuracy: 0.9414\n"
     ]
    }
   ],
   "source": [
    "hist_modelo1=modelo1.fit(training_img_digit, training_label_digit, \n",
    "                 epochs=30,\n",
    "                 batch_size=512,\n",
    "                 validation_data=(validation_img_digit, validation_label_digit))"
   ]
  },
  {
   "cell_type": "code",
   "execution_count": 15,
   "id": "1f595a23-4f93-4e1b-97a1-2a1ded315ac3",
   "metadata": {},
   "outputs": [
    {
     "data": {
      "image/png": "[encoded data removed]",
      "text/plain": [
       "<Figure size 936x432 with 2 Axes>"
      ]
     },
     "metadata": {
      "needs_background": "light"
     },
     "output_type": "display_data"
    }
   ],
   "source": [
    "def plotar_acuracia_loss(modelo,nome):\n",
    "    \n",
    "    epochs=range(1,len(modelo.history['accuracy'])+1)\n",
    "\n",
    "    plt.rcParams[\"figure.figsize\"] = (13,6)\n",
    "\n",
    "    plt.subplot(1, 2, 1)\n",
    "\n",
    "    plt.plot(epochs,modelo.history['accuracy'], color='orange', label='Acurácia de treino')\n",
    "    plt.plot(epochs,modelo.history['val_accuracy'], 'b', label ='Acurácia de validação')\n",
    "    plt.title('Acurácia de treino e validação do '+nome)\n",
    "    plt.xlabel('Epochs')\n",
    "    plt.ylabel('Acurácia')\n",
    "    plt.legend()\n",
    "\n",
    "    plt.subplot(1, 2, 2)\n",
    "\n",
    "    plt.plot(epochs,modelo.history['loss'], color='orange', label='Perda de treino')\n",
    "    plt.plot(epochs,modelo.history['val_loss'], 'b', label ='Perda de validação')\n",
    "    plt.title('Perda de treino e validação do '+nome)\n",
    "    plt.xlabel('Epochs')\n",
    "    plt.ylabel('Perda')\n",
    "    plt.legend()\n",
    "\n",
    "    plt.show()\n",
    "    \n",
    "plotar_acuracia_loss(hist_modelo1,\"Modelo 1\")"
   ]
  },
  {
   "cell_type": "markdown",
   "id": "e09cebb5-92db-4d21-9276-93ac5a138f10",
   "metadata": {},
   "source": [
    "##### Segundo modelo para as letras"
   ]
  },
  {
   "cell_type": "code",
   "execution_count": 24,
   "id": "58bc141f-3b65-427f-a44d-2e8622751bf2",
   "metadata": {},
   "outputs": [],
   "source": [
    "modelo2 = models.Sequential([\n",
    "    layers.Conv2D(64,\n",
    "                  (3,3),\n",
    "                  activation='relu',\n",
    "                  input_shape=(17,11,1),\n",
    "                  padding='same'),\n",
    "    layers.MaxPooling2D(pool_size=(2,2),\n",
    "                       strides=2),\n",
    "    layers.Conv2D(64,\n",
    "                 (3,3),\n",
    "                 activation='relu',\n",
    "                 padding='same'),\n",
    "    layers.MaxPooling2D(pool_size=(2,2),\n",
    "                       strides=2),\n",
    "    layers.Flatten(),\n",
    "    \n",
    "    layers.Dense(100,\n",
    "                activation='relu'),\n",
    "    layers.Dense(100,\n",
    "                activation='relu'),\n",
    "    layers.Dense(100,\n",
    "                activation='relu'),\n",
    "    layers.Dense(26,\n",
    "                activation='softmax')\n",
    "])"
   ]
  },
  {
   "cell_type": "code",
   "execution_count": 25,
   "id": "d7931bdd-7bc8-460f-bdaa-8036df276a56",
   "metadata": {},
   "outputs": [],
   "source": [
    "modelo2.compile(optimizer = optimizers.Adam(learning_rate = 0.001),\n",
    "              loss='categorical_crossentropy',\n",
    "              metrics=['accuracy'])"
   ]
  },
  {
   "cell_type": "code",
   "execution_count": 26,
   "id": "50023831-d019-455b-9a52-4312a5ae5aa2",
   "metadata": {},
   "outputs": [
    {
     "name": "stdout",
     "output_type": "stream",
     "text": [
      "Epoch 1/30\n",
      "11/11 [==============================] - 1s 25ms/step - loss: 3.1072 - accuracy: 0.2315 - val_loss: 3.0310 - val_accuracy: 0.2889\n",
      "Epoch 2/30\n",
      "11/11 [==============================] - 0s 12ms/step - loss: 2.8916 - accuracy: 0.2722 - val_loss: 2.8849 - val_accuracy: 0.2889\n",
      "Epoch 3/30\n",
      "11/11 [==============================] - 0s 12ms/step - loss: 2.8204 - accuracy: 0.2722 - val_loss: 2.8516 - val_accuracy: 0.2889\n",
      "Epoch 4/30\n",
      "11/11 [==============================] - 0s 12ms/step - loss: 2.7571 - accuracy: 0.2722 - val_loss: 2.7909 - val_accuracy: 0.2889\n",
      "Epoch 5/30\n",
      "11/11 [==============================] - 0s 12ms/step - loss: 2.6409 - accuracy: 0.3019 - val_loss: 2.6827 - val_accuracy: 0.3396\n",
      "Epoch 6/30\n",
      "11/11 [==============================] - 0s 11ms/step - loss: 2.4479 - accuracy: 0.3359 - val_loss: 2.5145 - val_accuracy: 0.3567\n",
      "Epoch 7/30\n",
      "11/11 [==============================] - 0s 11ms/step - loss: 2.1779 - accuracy: 0.3767 - val_loss: 2.3142 - val_accuracy: 0.3926\n",
      "Epoch 8/30\n",
      "11/11 [==============================] - 0s 11ms/step - loss: 1.8716 - accuracy: 0.4515 - val_loss: 2.1140 - val_accuracy: 0.4759\n",
      "Epoch 9/30\n",
      "11/11 [==============================] - 0s 11ms/step - loss: 1.6142 - accuracy: 0.5604 - val_loss: 2.0379 - val_accuracy: 0.5163\n",
      "Epoch 10/30\n",
      "11/11 [==============================] - 0s 11ms/step - loss: 1.3841 - accuracy: 0.6224 - val_loss: 1.9303 - val_accuracy: 0.5696\n",
      "Epoch 11/30\n",
      "11/11 [==============================] - 0s 11ms/step - loss: 1.1987 - accuracy: 0.6783 - val_loss: 1.8657 - val_accuracy: 0.5870\n",
      "Epoch 12/30\n",
      "11/11 [==============================] - 0s 11ms/step - loss: 1.0333 - accuracy: 0.7191 - val_loss: 1.8283 - val_accuracy: 0.6333\n",
      "Epoch 13/30\n",
      "11/11 [==============================] - 0s 11ms/step - loss: 0.9265 - accuracy: 0.7304 - val_loss: 1.7831 - val_accuracy: 0.6415\n",
      "Epoch 14/30\n",
      "11/11 [==============================] - 0s 16ms/step - loss: 0.8142 - accuracy: 0.7635 - val_loss: 1.7969 - val_accuracy: 0.6444\n",
      "Epoch 15/30\n",
      "11/11 [==============================] - 0s 13ms/step - loss: 0.6787 - accuracy: 0.8033 - val_loss: 1.7632 - val_accuracy: 0.6707\n",
      "Epoch 16/30\n",
      "11/11 [==============================] - 0s 11ms/step - loss: 0.5774 - accuracy: 0.8343 - val_loss: 1.7687 - val_accuracy: 0.6689\n",
      "Epoch 17/30\n",
      "11/11 [==============================] - 0s 11ms/step - loss: 0.5012 - accuracy: 0.8589 - val_loss: 1.8042 - val_accuracy: 0.7085\n",
      "Epoch 18/30\n",
      "11/11 [==============================] - 0s 11ms/step - loss: 0.4190 - accuracy: 0.8889 - val_loss: 1.9274 - val_accuracy: 0.6670\n",
      "Epoch 19/30\n",
      "11/11 [==============================] - 0s 11ms/step - loss: 0.3534 - accuracy: 0.9015 - val_loss: 1.9010 - val_accuracy: 0.7167\n",
      "Epoch 20/30\n",
      "11/11 [==============================] - 0s 11ms/step - loss: 0.2937 - accuracy: 0.9222 - val_loss: 1.8972 - val_accuracy: 0.7341\n",
      "Epoch 21/30\n",
      "11/11 [==============================] - 0s 11ms/step - loss: 0.2430 - accuracy: 0.9415 - val_loss: 2.0335 - val_accuracy: 0.7196\n",
      "Epoch 22/30\n",
      "11/11 [==============================] - 0s 11ms/step - loss: 0.2019 - accuracy: 0.9546 - val_loss: 2.0575 - val_accuracy: 0.7426\n",
      "Epoch 23/30\n",
      "11/11 [==============================] - 0s 11ms/step - loss: 0.1778 - accuracy: 0.9589 - val_loss: 2.1396 - val_accuracy: 0.7315\n",
      "Epoch 24/30\n",
      "11/11 [==============================] - 0s 11ms/step - loss: 0.1487 - accuracy: 0.9681 - val_loss: 2.2407 - val_accuracy: 0.7396\n",
      "Epoch 25/30\n",
      "11/11 [==============================] - 0s 11ms/step - loss: 0.1338 - accuracy: 0.9726 - val_loss: 2.2588 - val_accuracy: 0.7330\n",
      "Epoch 26/30\n",
      "11/11 [==============================] - 0s 12ms/step - loss: 0.1119 - accuracy: 0.9781 - val_loss: 2.3037 - val_accuracy: 0.7389\n",
      "Epoch 27/30\n",
      "11/11 [==============================] - 0s 11ms/step - loss: 0.0979 - accuracy: 0.9815 - val_loss: 2.3286 - val_accuracy: 0.7470\n",
      "Epoch 28/30\n",
      "11/11 [==============================] - 0s 11ms/step - loss: 0.0870 - accuracy: 0.9831 - val_loss: 2.4255 - val_accuracy: 0.7593\n",
      "Epoch 29/30\n",
      "11/11 [==============================] - 0s 11ms/step - loss: 0.0825 - accuracy: 0.9839 - val_loss: 2.4602 - val_accuracy: 0.7463\n",
      "Epoch 30/30\n",
      "11/11 [==============================] - 0s 12ms/step - loss: 0.0641 - accuracy: 0.9878 - val_loss: 2.4645 - val_accuracy: 0.7544\n"
     ]
    }
   ],
   "source": [
    "hist_modelo2=modelo2.fit(training_img_char, training_label_char, \n",
    "                 epochs=30,\n",
    "                 batch_size=512,\n",
    "                 validation_data=(validation_img_char, validation_label_char))"
   ]
  },
  {
   "cell_type": "code",
   "execution_count": 27,
   "id": "e6e6cd00-cc2a-469b-9151-ce9706a5c021",
   "metadata": {},
   "outputs": [
    {
     "data": {
      "image/png": "[encoded data removed]",
      "text/plain": [
       "<Figure size 936x432 with 2 Axes>"
      ]
     },
     "metadata": {
      "needs_background": "light"
     },
     "output_type": "display_data"
    }
   ],
   "source": [
    "plotar_acuracia_loss(hist_modelo2,\"Modelo 2\")"
   ]
  },
  {
   "cell_type": "code",
   "execution_count": null,
   "id": "f0e79034-485d-4860-abb8-25b440406747",
   "metadata": {},
   "outputs": [],
   "source": []
  }
 ],
 "metadata": {
  "kernelspec": {
   "display_name": "Python 3 (ipykernel)",
   "language": "python",
   "name": "python3"
  },
  "language_info": {
   "codemirror_mode": {
    "name": "ipython",
    "version": 3
   },
   "file_extension": ".py",
   "mimetype": "text/x-python",
   "name": "python",
   "nbconvert_exporter": "python",
   "pygments_lexer": "ipython3",
   "version": "3.9.2"
  }
 },
 "nbformat": 4,
 "nbformat_minor": 5
}
