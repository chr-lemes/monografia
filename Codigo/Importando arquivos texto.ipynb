{
 "cells": [
  {
   "cell_type": "code",
   "execution_count": 1,
   "id": "f5708a4b",
   "metadata": {},
   "outputs": [],
   "source": [
    "import re\n",
    "import os\n",
    "import json"
   ]
  },
  {
   "cell_type": "code",
   "execution_count": 2,
   "id": "5364b050",
   "metadata": {},
   "outputs": [],
   "source": [
    "def gerar_coords(string):\n",
    "    temp=list(map(int,re.split(r'\\s',string.strip())))\n",
    "    coord=[]\n",
    "    for i in range(4):\n",
    "        if i in [2,3]:\n",
    "            coord.append(temp[i-2]+temp[i])\n",
    "        else:\n",
    "            coord.append(temp[i])\n",
    "    return coord\n",
    "\n",
    "def read_file(file):\n",
    "    temp={}\n",
    "    with open(file,'r') as f:\n",
    "        \n",
    "        for line in f:\n",
    "            if(re.search(r\"\\d+\\s\\d+\\s\\d+\\s\\d+\",line)):                    #procura pelo padrão correspondente à posição dos veículos, placas e caracteres na imagem\n",
    "                match=re.split(r\":\",line)                                 #faz um split da linha usando \":\" como separador\n",
    "                temp[match[0].strip()]=gerar_coords(match[1])             #cria uma entrada key:value no dicionário, onde key é o nome do campo e value são as posições dos veículos, placas ou caracteres\n",
    "            elif(re.search(r\"\\w{3}-\\d{4}\",line)):                         #procura pelo padrão correspondente ao código da placa\n",
    "                match=re.split(r\":\",line)\n",
    "                temp[match[0].strip()]=match[1].strip()\n",
    "            \n",
    "    return temp\n",
    "        "
   ]
  },
  {
   "cell_type": "code",
   "execution_count": 3,
   "id": "e8b96db7",
   "metadata": {},
   "outputs": [],
   "source": [
    "work_dir='/home/clemes/Monografia/UFPR-ALPR dataset/'\n",
    "\n",
    "dados={}\n",
    "for dirpath, dirnames, filenames in os.walk(work_dir):\n",
    "    if not dirnames:\n",
    "        for file in filenames:\n",
    "            if ('.txt' in file):\n",
    "                dados[os.path.basename(file).rsplit('.')[0]]=read_file(os.path.join(dirpath,file))"
   ]
  },
  {
   "cell_type": "code",
   "execution_count": 4,
   "id": "a3335602",
   "metadata": {},
   "outputs": [],
   "source": [
    "with open(os.path.join(work_dir,'dados.json'),'w+') as f:\n",
    "    json.dump(dados, f, indent=4)"
   ]
  },
  {
   "cell_type": "code",
   "execution_count": 10,
   "id": "d6a8a9d5",
   "metadata": {},
   "outputs": [],
   "source": [
    "width=[]\n",
    "height=[]\n",
    "chars=['char '+str(x) for x in range(1,8)]\n",
    "for key in dados.keys():\n",
    "    for char in chars:\n",
    "        width.append(dados[key][char][2]-dados[key][char][0])\n",
    "        height.append(dados[key][char][3]-dados[key][char][1])\n",
    "        "
   ]
  },
  {
   "cell_type": "code",
   "execution_count": 18,
   "id": "93e7e78c",
   "metadata": {},
   "outputs": [
    {
     "name": "stdout",
     "output_type": "stream",
     "text": [
      "A largura média dos caracteres das placas é 11.180571428571428 pixels\n"
     ]
    }
   ],
   "source": [
    "print(\"A largura média dos caracteres das placas é {} pixels\".format(sum(width)/len(width)))"
   ]
  },
  {
   "cell_type": "code",
   "execution_count": 19,
   "id": "f0a93649",
   "metadata": {},
   "outputs": [
    {
     "name": "stdout",
     "output_type": "stream",
     "text": [
      "A altura média dos caracteres das placas é 17.358031746031745 pixels\n"
     ]
    }
   ],
   "source": [
    "print(\"A altura média dos caracteres das placas é {} pixels\".format(sum(height)/len(height)))"
   ]
  },
  {
   "cell_type": "code",
   "execution_count": null,
   "id": "f6c0a250",
   "metadata": {},
   "outputs": [],
   "source": []
  }
 ],
 "metadata": {
  "kernelspec": {
   "display_name": "Python 3 (ipykernel)",
   "language": "python",
   "name": "python3"
  },
  "language_info": {
   "codemirror_mode": {
    "name": "ipython",
    "version": 3
   },
   "file_extension": ".py",
   "mimetype": "text/x-python",
   "name": "python",
   "nbconvert_exporter": "python",
   "pygments_lexer": "ipython3",
   "version": "3.9.2"
  },
  "toc": {
   "base_numbering": 1,
   "nav_menu": {},
   "number_sections": true,
   "sideBar": true,
   "skip_h1_title": false,
   "title_cell": "Table of Contents",
   "title_sidebar": "Contents",
   "toc_cell": false,
   "toc_position": {},
   "toc_section_display": true,
   "toc_window_display": false
  }
 },
 "nbformat": 4,
 "nbformat_minor": 5
}
