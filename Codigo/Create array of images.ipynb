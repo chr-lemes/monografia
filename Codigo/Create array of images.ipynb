{
 "cells": [
  {
   "cell_type": "code",
   "execution_count": 1,
   "id": "49b858aa",
   "metadata": {},
   "outputs": [],
   "source": [
    "import numpy as np\n",
    "from PIL import Image\n",
    "import os\n",
    "import json\n",
    "from collections import defaultdict"
   ]
  },
  {
   "cell_type": "code",
   "execution_count": 2,
   "id": "c48fabbe",
   "metadata": {},
   "outputs": [],
   "source": [
    "work_dir='/home/clemes/Monografia/'"
   ]
  },
  {
   "cell_type": "code",
   "execution_count": 3,
   "id": "4d93def2",
   "metadata": {},
   "outputs": [],
   "source": [
    "with open(os.path.join(work_dir,'UFPR-ALPR dataset','dados.json'),'r') as f:\n",
    "    dados=json.load(f)"
   ]
  },
  {
   "cell_type": "code",
   "execution_count": 4,
   "id": "fedfe078",
   "metadata": {},
   "outputs": [],
   "source": [
    "def read_img(path,file):\n",
    "    \"\"\" Função que abre o arquivo contendo a imagem e a transforma em um array numpy\n",
    "        \n",
    "        :param path: caminho onde se encontra o arquivo contendo a imagem\n",
    "        :param file: nome do arquivo a ser aberto\n",
    "        :return: retorna um array numpy a partir da conversão da imagem para grayscale\n",
    "    \n",
    "    \"\"\"\n",
    "    with Image.open(os.path.join(path,file)) as img:\n",
    "        return np.asarray(img.convert('L'))"
   ]
  },
  {
   "cell_type": "code",
   "execution_count": 5,
   "id": "4d4eacbd",
   "metadata": {},
   "outputs": [],
   "source": [
    "def read_label(file):\n",
    "    \"\"\"Função que procura pelo nome do arquivo com a imagem no dicionário gerado a partir do arquivo dados.json e retorna o label\n",
    "       para aquele caractere\n",
    "       \n",
    "       :param file: nome do arquivo contendo a imagem\n",
    "                    um exemplo de nome de arquivo é 'track0055[10]_char5.png'. O valor logo após 'char' indica a posição na placa\n",
    "       :return: string com o label\n",
    "    \n",
    "    \n",
    "    \"\"\"\n",
    "    text=file.rstrip('.png').split('_char') #No caso do exemplo do docstring, retornaria a lista ['track0055[10]','5'],\n",
    "    return dados[text[0]]['plate'][int(text[1])-1]"
   ]
  },
  {
   "cell_type": "code",
   "execution_count": 6,
   "id": "1f0cf4e8",
   "metadata": {},
   "outputs": [],
   "source": [
    "\"\"\"\n",
    "    Esta célula cria um defaultdict (igual ao dicionário, mas cria a key caso ela não exista) que vai armazenar\n",
    "    6 keys: training_dados, training_label, testing_dados, testing_label, validation_dados e validation_label\n",
    "\n",
    "\"\"\"\n",
    "\n",
    "temp=defaultdict(list)\n",
    "\n",
    "for dirpath, dirnames, filenames in os.walk(os.path.join(work_dir,'crops')):\n",
    "    if not dirnames:\n",
    "        for file in filenames:\n",
    "            temp[os.path.split(dirpath)[1]+'_dados'].append(read_img(dirpath,file))\n",
    "            temp[os.path.split(dirpath)[1]+'_label'].append(read_label(file))\n"
   ]
  },
  {
   "cell_type": "code",
   "execution_count": 7,
   "id": "29237f7a",
   "metadata": {},
   "outputs": [],
   "source": [
    "'''\n",
    "    Esta célula \"empilha\" as imagens num único ndarray\n",
    "'''\n",
    "\n",
    "training_img=np.stack(temp['training_dados'])\n",
    "testing_img=np.stack(temp['testing_dados'])\n",
    "validation_img=np.stack(temp['validation_dados'])"
   ]
  },
  {
   "cell_type": "code",
   "execution_count": 8,
   "id": "556db316",
   "metadata": {},
   "outputs": [],
   "source": [
    "training_label=np.array(temp['training_label'])\n",
    "testing_label=np.array(temp['testing_dados_label'])\n",
    "validation_label=np.array(temp['validation_label'])"
   ]
  },
  {
   "cell_type": "code",
   "execution_count": 9,
   "id": "89a187ee",
   "metadata": {},
   "outputs": [],
   "source": [
    "\"\"\"\n",
    "    Esta célula salva os arrays com imagens e labels em arquivos binários para serem usados posteriormente\n",
    "\"\"\"\n",
    "\n",
    "np.save(os.path.join(work_dir,'Codigo','training_data.npy'),training_img)\n",
    "np.save(os.path.join(work_dir,'Codigo','testing_data.npy'),testing_img)\n",
    "np.save(os.path.join(work_dir,'Codigo','validation_data.npy'),validation_img)\n",
    "\n",
    "np.save(os.path.join(work_dir,'Codigo','training_label.npy'),training_label)\n",
    "np.save(os.path.join(work_dir,'Codigo','testing_label.npy'),testing_label)\n",
    "np.save(os.path.join(work_dir,'Codigo','validation_label.npy'),validation_label)"
   ]
  },
  {
   "cell_type": "code",
   "execution_count": null,
   "id": "bce3d5d1-bced-4daf-9737-b1705bf46f3b",
   "metadata": {},
   "outputs": [],
   "source": []
  }
 ],
 "metadata": {
  "kernelspec": {
   "display_name": "Python 3 (ipykernel)",
   "language": "python",
   "name": "python3"
  },
  "language_info": {
   "codemirror_mode": {
    "name": "ipython",
    "version": 3
   },
   "file_extension": ".py",
   "mimetype": "text/x-python",
   "name": "python",
   "nbconvert_exporter": "python",
   "pygments_lexer": "ipython3",
   "version": "3.9.2"
  },
  "toc": {
   "base_numbering": 1,
   "nav_menu": {},
   "number_sections": true,
   "sideBar": true,
   "skip_h1_title": false,
   "title_cell": "Table of Contents",
   "title_sidebar": "Contents",
   "toc_cell": false,
   "toc_position": {},
   "toc_section_display": true,
   "toc_window_display": false
  }
 },
 "nbformat": 4,
 "nbformat_minor": 5
}
