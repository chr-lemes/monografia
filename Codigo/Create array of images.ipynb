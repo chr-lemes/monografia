{
 "cells": [
  {
   "cell_type": "code",
   "execution_count": 1,
   "id": "49b858aa",
   "metadata": {},
   "outputs": [],
   "source": [
    "import numpy as np\n",
    "from PIL import Image\n",
    "import os"
   ]
  },
  {
   "cell_type": "code",
   "execution_count": 2,
   "id": "c48fabbe",
   "metadata": {},
   "outputs": [],
   "source": [
    "work_dir='/home/clemes/Monografia/crops'"
   ]
  },
  {
   "cell_type": "code",
   "execution_count": 3,
   "id": "1f0cf4e8",
   "metadata": {},
   "outputs": [],
   "source": [
    "label=[]\n",
    "temp=[]\n",
    "for dirpath, dirnames, filenames in os.walk(work_dir):\n",
    "    if not dirnames:\n",
    "        for file in filenames:\n",
    "            with Image.open(os.path.join(work_dir,file)) as img:\n",
    "                temp.append(np.asarray(img.convert('L')))               \n",
    "            "
   ]
  },
  {
   "cell_type": "code",
   "execution_count": 4,
   "id": "29237f7a",
   "metadata": {},
   "outputs": [
    {
     "data": {
      "text/plain": [
       "(17, 11, 31500)"
      ]
     },
     "execution_count": 4,
     "metadata": {},
     "output_type": "execute_result"
    }
   ],
   "source": [
    "img_array=np.dstack(temp)\n",
    "img_array.shape"
   ]
  },
  {
   "cell_type": "code",
   "execution_count": 7,
   "id": "556db316",
   "metadata": {},
   "outputs": [
    {
     "data": {
      "text/plain": [
       "array([[206, 206, 216, 200, 157, 137, 156, 190, 196, 189, 181],\n",
       "       [207, 211, 223, 198, 133, 110, 124, 145, 168, 189, 190],\n",
       "       [207, 218, 227, 184, 110,  96, 100, 104, 127, 149, 165],\n",
       "       [208, 221, 221, 157, 100, 114, 120, 104, 103, 109, 129],\n",
       "       [207, 219, 203, 128, 104, 150, 174, 146, 113,  98, 128],\n",
       "       [208, 218, 181, 110, 111, 173, 213, 195, 157, 132, 158],\n",
       "       [216, 219, 156, 102, 109, 154, 194, 210, 205, 192, 186],\n",
       "       [223, 211, 126,  97, 102, 111, 135, 186, 213, 214, 201],\n",
       "       [221, 183, 109, 105, 119, 104, 108, 163, 205, 204, 194],\n",
       "       [217, 155, 104, 126, 169, 156, 143, 182, 203, 194, 196],\n",
       "       [209, 133, 102, 144, 200, 198, 191, 200, 204, 190, 194],\n",
       "       [198, 126, 103, 134, 179, 198, 208, 207, 202, 193, 200],\n",
       "       [197, 153, 126, 118, 135, 156, 174, 197, 201, 198, 209],\n",
       "       [184, 182, 166, 140, 121, 117, 125, 170, 197, 201, 212],\n",
       "       [148, 180, 196, 187, 154, 123, 115, 154, 196, 204, 209],\n",
       "       [117, 151, 194, 201, 185, 159, 148, 175, 207, 211, 209],\n",
       "       [115, 128, 187, 191, 164, 159, 176, 203, 212, 208, 199]],\n",
       "      dtype=uint8)"
      ]
     },
     "execution_count": 7,
     "metadata": {},
     "output_type": "execute_result"
    }
   ],
   "source": [
    "img_array[:,:,0]"
   ]
  },
  {
   "cell_type": "code",
   "execution_count": 6,
   "id": "89a187ee",
   "metadata": {},
   "outputs": [
    {
     "name": "stderr",
     "output_type": "stream",
     "text": [
      "\n",
      "(eom:29224): GLib-GObject-CRITICAL **: 14:25:00.898: g_object_unref: assertion 'G_IS_OBJECT (object)' failed\n",
      "\n",
      "** (gdk-pixbuf-thumbnailer:29444): WARNING **: 14:25:03.564: Could not thumbnail 'file:///tmp/.mate_desktop_thumbnail.Q0NCJ1': Failed to open file ?/tmp/.mate_desktop_thumbnail.Q0NCJ1?: No such file or directory\n",
      "\n",
      "(eom:29224): GLib-GObject-CRITICAL **: 14:25:03.564: g_object_unref: assertion 'G_IS_OBJECT (object)' failed\n",
      "\n",
      "** (gdk-pixbuf-thumbnailer:29897): WARNING **: 14:25:11.392: Could not thumbnail 'file:///tmp/.mate_desktop_thumbnail.37JAJ1': Failed to open file ?/tmp/.mate_desktop_thumbnail.37JAJ1?: No such file or directory\n",
      "\n",
      "(eom:29224): GLib-GObject-CRITICAL **: 14:25:11.393: g_object_unref: assertion 'G_IS_OBJECT (object)' failed\n"
     ]
    }
   ],
   "source": [
    "img=Image.fromarray(img_array[:,:,0])\n",
    "img.show()"
   ]
  },
  {
   "cell_type": "code",
   "execution_count": null,
   "id": "b503bcd0",
   "metadata": {},
   "outputs": [],
   "source": []
  }
 ],
 "metadata": {
  "kernelspec": {
   "display_name": "Python 3 (ipykernel)",
   "language": "python",
   "name": "python3"
  },
  "language_info": {
   "codemirror_mode": {
    "name": "ipython",
    "version": 3
   },
   "file_extension": ".py",
   "mimetype": "text/x-python",
   "name": "python",
   "nbconvert_exporter": "python",
   "pygments_lexer": "ipython3",
   "version": "3.9.2"
  },
  "toc": {
   "base_numbering": 1,
   "nav_menu": {},
   "number_sections": true,
   "sideBar": true,
   "skip_h1_title": false,
   "title_cell": "Table of Contents",
   "title_sidebar": "Contents",
   "toc_cell": false,
   "toc_position": {},
   "toc_section_display": true,
   "toc_window_display": false
  }
 },
 "nbformat": 4,
 "nbformat_minor": 5
}
