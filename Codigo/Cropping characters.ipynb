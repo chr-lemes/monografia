{
 "cells": [
  {
   "cell_type": "code",
   "execution_count": 6,
   "id": "fc31275d",
   "metadata": {},
   "outputs": [],
   "source": [
    "from PIL import Image\n",
    "import json\n",
    "import os\n",
    "import numpy as np"
   ]
  },
  {
   "cell_type": "code",
   "execution_count": 2,
   "id": "99579d1e",
   "metadata": {},
   "outputs": [],
   "source": [
    "work_dir='/home/clemes/Monografia/UFPR-ALPR dataset/'\n",
    "\n",
    "with open(os.path.join(work_dir,'dados.json'),'r') as f:\n",
    "    dados=json.load(f)"
   ]
  },
  {
   "cell_type": "code",
   "execution_count": 3,
   "id": "a4c91774",
   "metadata": {},
   "outputs": [],
   "source": [
    "def read_crop_img(path,filename,dados):\n",
    "    crop_dir='/home/clemes/Monografia/crops/'\n",
    "    \n",
    "    file_wo_ext=os.path.basename(filename).rsplit('.')[0]\n",
    "    \n",
    "    with Image.open(os.path.join(path,filename)) as img:\n",
    "     #  for char in chars:\n",
    "        for i in range(1,8):\n",
    "            cropd_img=img.crop(tuple(dados[file_wo_ext]['char '+str(i)]))\n",
    "            cropd_img_resized=cropd_img.resize((11,17))\n",
    "            cropd_img_resized.save(os.path.join(crop_dir,file_wo_ext+'_'+'char'+str(i)+'.png'))\n",
    "        \n",
    "                           "
   ]
  },
  {
   "cell_type": "code",
   "execution_count": 4,
   "id": "46e3a355",
   "metadata": {},
   "outputs": [],
   "source": [
    "for dirpath, dirnames, filenames in os.walk(work_dir):\n",
    "    if not dirnames:\n",
    "        for file in filenames:\n",
    "            if ('.png' in file):\n",
    "                read_crop_img(dirpath,file,dados)"
   ]
  },
  {
   "cell_type": "code",
   "execution_count": null,
   "id": "1e43ff31",
   "metadata": {},
   "outputs": [],
   "source": []
  }
 ],
 "metadata": {
  "kernelspec": {
   "display_name": "Python 3 (ipykernel)",
   "language": "python",
   "name": "python3"
  },
  "language_info": {
   "codemirror_mode": {
    "name": "ipython",
    "version": 3
   },
   "file_extension": ".py",
   "mimetype": "text/x-python",
   "name": "python",
   "nbconvert_exporter": "python",
   "pygments_lexer": "ipython3",
   "version": "3.9.2"
  },
  "toc": {
   "base_numbering": 1,
   "nav_menu": {},
   "number_sections": true,
   "sideBar": true,
   "skip_h1_title": false,
   "title_cell": "Table of Contents",
   "title_sidebar": "Contents",
   "toc_cell": false,
   "toc_position": {},
   "toc_section_display": true,
   "toc_window_display": false
  }
 },
 "nbformat": 4,
 "nbformat_minor": 5
}
